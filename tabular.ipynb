{
 "cells": [
  {
   "cell_type": "markdown",
   "metadata": {},
   "source": [
    "# <span style ='color:purple'>Import & settings"
   ]
  },
  {
   "cell_type": "code",
   "execution_count": 1,
   "metadata": {},
   "outputs": [],
   "source": [
    "import numpy as np\n",
    "import pandas as pd\n",
    "import os\n",
    "import matplotlib.pyplot as plt\n",
    "import seaborn as sns\n",
    "%reload_ext autoreload\n",
    "%autoreload 2\n",
    "\n",
    "from data_provider.data_factory import data_provider\n",
    "from tabular.dl_logs import logs_summary, exp_summary\n",
    "from tabular.data import load_data\n",
    "from tabular.tabular_models import compare_models_w_hpo"
   ]
  },
  {
   "cell_type": "code",
   "execution_count": 2,
   "metadata": {},
   "outputs": [],
   "source": [
    "from types import SimpleNamespace\n",
    "lt_logs_df = pd.read_csv(os.path.join('./logs/long_term_forecast.csv'), index_col = 0)\n",
    "usc_args = SimpleNamespace(**lt_logs_df.loc[207].to_dict())"
   ]
  },
  {
   "cell_type": "code",
   "execution_count": 3,
   "metadata": {},
   "outputs": [],
   "source": [
    "seq_len = 32\n",
    "pred_len = seq_len\n",
    "usc_args.seq_len = seq_len\n",
    "usc_args.pred_len = pred_len\n",
    "usc_args.scale = False"
   ]
  },
  {
   "cell_type": "markdown",
   "metadata": {},
   "source": [
    "# <spn style = 'color:lightgreen'>DL Logs "
   ]
  },
  {
   "cell_type": "code",
   "execution_count": 4,
   "metadata": {},
   "outputs": [
    {
     "name": "stdout",
     "output_type": "stream",
     "text": [
      "test 4233\n"
     ]
    },
    {
     "data": {
      "text/html": [
       "<div>\n",
       "<style scoped>\n",
       "    .dataframe tbody tr th:only-of-type {\n",
       "        vertical-align: middle;\n",
       "    }\n",
       "\n",
       "    .dataframe tbody tr th {\n",
       "        vertical-align: top;\n",
       "    }\n",
       "\n",
       "    .dataframe thead th {\n",
       "        text-align: right;\n",
       "    }\n",
       "</style>\n",
       "<table border=\"1\" class=\"dataframe\">\n",
       "  <thead>\n",
       "    <tr style=\"text-align: right;\">\n",
       "      <th></th>\n",
       "      <th>model</th>\n",
       "      <th>features</th>\n",
       "      <th>fde</th>\n",
       "      <th>rmse</th>\n",
       "    </tr>\n",
       "  </thead>\n",
       "  <tbody>\n",
       "    <tr>\n",
       "      <th>0</th>\n",
       "      <td>ST_GAT</td>\n",
       "      <td>MS</td>\n",
       "      <td>2.824565</td>\n",
       "      <td>1.696490</td>\n",
       "    </tr>\n",
       "    <tr>\n",
       "      <th>1</th>\n",
       "      <td>SABFormer</td>\n",
       "      <td>MS</td>\n",
       "      <td>2.849299</td>\n",
       "      <td>1.627774</td>\n",
       "    </tr>\n",
       "    <tr>\n",
       "      <th>2</th>\n",
       "      <td>Transformer</td>\n",
       "      <td>MS</td>\n",
       "      <td>2.931722</td>\n",
       "      <td>1.691967</td>\n",
       "    </tr>\n",
       "    <tr>\n",
       "      <th>3</th>\n",
       "      <td>iTransformer</td>\n",
       "      <td>S</td>\n",
       "      <td>2.937358</td>\n",
       "      <td>1.654779</td>\n",
       "    </tr>\n",
       "    <tr>\n",
       "      <th>4</th>\n",
       "      <td>Transformer</td>\n",
       "      <td>S</td>\n",
       "      <td>2.939580</td>\n",
       "      <td>1.653016</td>\n",
       "    </tr>\n",
       "    <tr>\n",
       "      <th>5</th>\n",
       "      <td>TimesNet</td>\n",
       "      <td>S</td>\n",
       "      <td>2.956967</td>\n",
       "      <td>1.665073</td>\n",
       "    </tr>\n",
       "    <tr>\n",
       "      <th>6</th>\n",
       "      <td>PatchTST</td>\n",
       "      <td>S</td>\n",
       "      <td>2.964681</td>\n",
       "      <td>1.676879</td>\n",
       "    </tr>\n",
       "    <tr>\n",
       "      <th>7</th>\n",
       "      <td>Nonstationary_Transformer</td>\n",
       "      <td>S</td>\n",
       "      <td>2.968956</td>\n",
       "      <td>1.694405</td>\n",
       "    </tr>\n",
       "    <tr>\n",
       "      <th>8</th>\n",
       "      <td>LSTM</td>\n",
       "      <td>MS</td>\n",
       "      <td>2.999465</td>\n",
       "      <td>1.800995</td>\n",
       "    </tr>\n",
       "    <tr>\n",
       "      <th>9</th>\n",
       "      <td>DLinear</td>\n",
       "      <td>S</td>\n",
       "      <td>3.018873</td>\n",
       "      <td>1.695828</td>\n",
       "    </tr>\n",
       "    <tr>\n",
       "      <th>10</th>\n",
       "      <td>LSTM</td>\n",
       "      <td>S</td>\n",
       "      <td>3.041810</td>\n",
       "      <td>1.793297</td>\n",
       "    </tr>\n",
       "    <tr>\n",
       "      <th>11</th>\n",
       "      <td>ST_GCN</td>\n",
       "      <td>MS</td>\n",
       "      <td>3.639315</td>\n",
       "      <td>2.318372</td>\n",
       "    </tr>\n",
       "    <tr>\n",
       "      <th>12</th>\n",
       "      <td>Nonstationary_Transformer</td>\n",
       "      <td>MS</td>\n",
       "      <td>3.785463</td>\n",
       "      <td>2.371669</td>\n",
       "    </tr>\n",
       "    <tr>\n",
       "      <th>13</th>\n",
       "      <td>TimesNet</td>\n",
       "      <td>MS</td>\n",
       "      <td>3.786721</td>\n",
       "      <td>2.369597</td>\n",
       "    </tr>\n",
       "    <tr>\n",
       "      <th>14</th>\n",
       "      <td>iTransformer</td>\n",
       "      <td>MS</td>\n",
       "      <td>3.840399</td>\n",
       "      <td>2.417904</td>\n",
       "    </tr>\n",
       "    <tr>\n",
       "      <th>15</th>\n",
       "      <td>PatchTST</td>\n",
       "      <td>MS</td>\n",
       "      <td>3.882437</td>\n",
       "      <td>2.443879</td>\n",
       "    </tr>\n",
       "    <tr>\n",
       "      <th>16</th>\n",
       "      <td>DLinear</td>\n",
       "      <td>MS</td>\n",
       "      <td>3.882548</td>\n",
       "      <td>2.441780</td>\n",
       "    </tr>\n",
       "    <tr>\n",
       "      <th>17</th>\n",
       "      <td>Baseline - StandStill</td>\n",
       "      <td>S</td>\n",
       "      <td>3.899879</td>\n",
       "      <td>2.452531</td>\n",
       "    </tr>\n",
       "    <tr>\n",
       "      <th>18</th>\n",
       "      <td>Baseline - ConstantVelocity</td>\n",
       "      <td>S</td>\n",
       "      <td>3.932300</td>\n",
       "      <td>2.094301</td>\n",
       "    </tr>\n",
       "  </tbody>\n",
       "</table>\n",
       "</div>"
      ],
      "text/plain": [
       "                          model features       fde      rmse\n",
       "0                        ST_GAT       MS  2.824565  1.696490\n",
       "1                     SABFormer       MS  2.849299  1.627774\n",
       "2                   Transformer       MS  2.931722  1.691967\n",
       "3                  iTransformer        S  2.937358  1.654779\n",
       "4                   Transformer        S  2.939580  1.653016\n",
       "5                      TimesNet        S  2.956967  1.665073\n",
       "6                      PatchTST        S  2.964681  1.676879\n",
       "7     Nonstationary_Transformer        S  2.968956  1.694405\n",
       "8                          LSTM       MS  2.999465  1.800995\n",
       "9                       DLinear        S  3.018873  1.695828\n",
       "10                         LSTM        S  3.041810  1.793297\n",
       "11                       ST_GCN       MS  3.639315  2.318372\n",
       "12    Nonstationary_Transformer       MS  3.785463  2.371669\n",
       "13                     TimesNet       MS  3.786721  2.369597\n",
       "14                 iTransformer       MS  3.840399  2.417904\n",
       "15                     PatchTST       MS  3.882437  2.443879\n",
       "16                      DLinear       MS  3.882548  2.441780\n",
       "17        Baseline - StandStill        S  3.899879  2.452531\n",
       "18  Baseline - ConstantVelocity        S  3.932300  2.094301"
      ]
     },
     "execution_count": 4,
     "metadata": {},
     "output_type": "execute_result"
    }
   ],
   "source": [
    "ldf = logs_summary(seq_len = seq_len)\n",
    "ldf"
   ]
  },
  {
   "cell_type": "markdown",
   "metadata": {},
   "source": [
    "# <span style ='color:cyan'> Data loading"
   ]
  },
  {
   "cell_type": "code",
   "execution_count": 5,
   "metadata": {},
   "outputs": [
    {
     "data": {
      "text/plain": [
       "((39389, 24), (39389,), (8440, 24), (8440,), (8441, 24), (8441,))"
      ]
     },
     "execution_count": 5,
     "metadata": {},
     "output_type": "execute_result"
    }
   ],
   "source": [
    "X_train, y_train, X_val, y_val, X_test, y_test = load_data(seq_len=seq_len, pred_len=pred_len, off_mask=False, downsample_factor=8)\n",
    "X_train.shape, y_train.shape, X_val.shape, y_val.shape, X_test.shape, y_test.shape"
   ]
  },
  {
   "cell_type": "markdown",
   "metadata": {},
   "source": [
    "# <span style = 'color:pink'>Model fitting"
   ]
  },
  {
   "cell_type": "code",
   "execution_count": 9,
   "metadata": {},
   "outputs": [
    {
     "name": "stdout",
     "output_type": "stream",
     "text": [
      "Tested Linear Regression - reached RMSE of 3.018 over the test set\n",
      "Tested ElasticNet - reached RMSE of 3.589 over the test set\n",
      "Tested SGD  - reached RMSE of 4.222 over the test set\n",
      "Tested kNN - reached RMSE of 3.809 over the test set\n",
      "Tested Support Vector - RBF - reached RMSE of 3.574 over the test set\n",
      "Tested Decision Tree - reached RMSE of 3.714 over the test set\n",
      "Tested Random Forest - reached RMSE of 3.523 over the test set\n",
      "Tested ADA Boost  - reached RMSE of 3.713 over the test set\n",
      "Testing Gradient Boosting ...\r"
     ]
    },
    {
     "name": "stderr",
     "output_type": "stream",
     "text": [
      "/home/admin/.pyenv/versions/3.10.6/envs/tsl_env/lib/python3.10/site-packages/numpy/core/_methods.py:48: RuntimeWarning: overflow encountered in reduce\n",
      "  return umr_sum(a, axis, dtype, out, keepdims, initial, where)\n",
      "/home/admin/.pyenv/versions/3.10.6/envs/tsl_env/lib/python3.10/site-packages/numpy/core/_methods.py:48: RuntimeWarning: overflow encountered in reduce\n",
      "  return umr_sum(a, axis, dtype, out, keepdims, initial, where)\n",
      "/home/admin/.pyenv/versions/3.10.6/envs/tsl_env/lib/python3.10/site-packages/numpy/core/_methods.py:48: RuntimeWarning: overflow encountered in reduce\n",
      "  return umr_sum(a, axis, dtype, out, keepdims, initial, where)\n",
      "/home/admin/.pyenv/versions/3.10.6/envs/tsl_env/lib/python3.10/site-packages/numpy/core/_methods.py:48: RuntimeWarning: overflow encountered in reduce\n",
      "  return umr_sum(a, axis, dtype, out, keepdims, initial, where)\n",
      "/home/admin/.pyenv/versions/3.10.6/envs/tsl_env/lib/python3.10/site-packages/numpy/core/_methods.py:48: RuntimeWarning: overflow encountered in reduce\n",
      "  return umr_sum(a, axis, dtype, out, keepdims, initial, where)\n",
      "/home/admin/.pyenv/versions/3.10.6/envs/tsl_env/lib/python3.10/site-packages/numpy/core/_methods.py:48: RuntimeWarning: overflow encountered in reduce\n",
      "  return umr_sum(a, axis, dtype, out, keepdims, initial, where)\n",
      "/home/admin/.pyenv/versions/3.10.6/envs/tsl_env/lib/python3.10/site-packages/numpy/core/_methods.py:48: RuntimeWarning: overflow encountered in reduce\n",
      "  return umr_sum(a, axis, dtype, out, keepdims, initial, where)\n",
      "/home/admin/.pyenv/versions/3.10.6/envs/tsl_env/lib/python3.10/site-packages/numpy/core/_methods.py:48: RuntimeWarning: overflow encountered in reduce\n",
      "  return umr_sum(a, axis, dtype, out, keepdims, initial, where)\n",
      "/home/admin/.pyenv/versions/3.10.6/envs/tsl_env/lib/python3.10/site-packages/sklearn/metrics/_regression.py:1220: RuntimeWarning: overflow encountered in square\n",
      "  numerator = xp.sum(weight * (y_true - y_pred) ** 2, axis=0)\n",
      "/home/admin/.pyenv/versions/3.10.6/envs/tsl_env/lib/python3.10/site-packages/sklearn/metrics/_regression.py:1220: RuntimeWarning: overflow encountered in square\n",
      "  numerator = xp.sum(weight * (y_true - y_pred) ** 2, axis=0)\n"
     ]
    },
    {
     "name": "stdout",
     "output_type": "stream",
     "text": [
      "Tested Gradient Boosting - reached RMSE of 3.552 over the test set\n",
      "Tested XGB  - reached RMSE of 3.531 over the test set\n"
     ]
    }
   ],
   "source": [
    "comp_df = compare_models_w_hpo(X_train=X_train, y_train=y_train,X_val=X_val, y_val=y_val, X_test=X_test, y_test=y_test,\n",
    "                               cv = False, n_iter_ml=20, n_iter_ann=1, method='regression')"
   ]
  },
  {
   "cell_type": "code",
   "execution_count": 10,
   "metadata": {},
   "outputs": [
    {
     "data": {
      "text/html": [
       "<div>\n",
       "<style scoped>\n",
       "    .dataframe tbody tr th:only-of-type {\n",
       "        vertical-align: middle;\n",
       "    }\n",
       "\n",
       "    .dataframe tbody tr th {\n",
       "        vertical-align: top;\n",
       "    }\n",
       "\n",
       "    .dataframe thead th {\n",
       "        text-align: right;\n",
       "    }\n",
       "</style>\n",
       "<table border=\"1\" class=\"dataframe\">\n",
       "  <thead>\n",
       "    <tr style=\"text-align: right;\">\n",
       "      <th></th>\n",
       "      <th>Best hyperparameters</th>\n",
       "      <th>RMSE</th>\n",
       "    </tr>\n",
       "    <tr>\n",
       "      <th>Model</th>\n",
       "      <th></th>\n",
       "      <th></th>\n",
       "    </tr>\n",
       "  </thead>\n",
       "  <tbody>\n",
       "    <tr>\n",
       "      <th>Linear Regression</th>\n",
       "      <td>{}</td>\n",
       "      <td>3.018366</td>\n",
       "    </tr>\n",
       "    <tr>\n",
       "      <th>Random Forest</th>\n",
       "      <td>{'criterion': 'squared_error', 'max_depth': 15...</td>\n",
       "      <td>3.523409</td>\n",
       "    </tr>\n",
       "    <tr>\n",
       "      <th>XGB</th>\n",
       "      <td>{'eta': 0.13462707592097856, 'gamma': 0.075639...</td>\n",
       "      <td>3.531214</td>\n",
       "    </tr>\n",
       "    <tr>\n",
       "      <th>Gradient Boosting</th>\n",
       "      <td>{'learning_rate': 0.07540248655398828, 'max_de...</td>\n",
       "      <td>3.551671</td>\n",
       "    </tr>\n",
       "    <tr>\n",
       "      <th>Support Vector - RBF</th>\n",
       "      <td>{'C': 56.119244014400074, 'gamma': 0.002682180...</td>\n",
       "      <td>3.574463</td>\n",
       "    </tr>\n",
       "    <tr>\n",
       "      <th>ElasticNet</th>\n",
       "      <td>{'alpha': 0.0015442257663942972, 'l1_ratio': 0...</td>\n",
       "      <td>3.589290</td>\n",
       "    </tr>\n",
       "    <tr>\n",
       "      <th>ADA Boost</th>\n",
       "      <td>{'learning_rate': 0.0026872109384420786, 'n_es...</td>\n",
       "      <td>3.713393</td>\n",
       "    </tr>\n",
       "    <tr>\n",
       "      <th>Decision Tree</th>\n",
       "      <td>{'max_depth': 3, 'min_samples_leaf': 30, 'min_...</td>\n",
       "      <td>3.713767</td>\n",
       "    </tr>\n",
       "    <tr>\n",
       "      <th>kNN</th>\n",
       "      <td>{'n_neighbors': 56}</td>\n",
       "      <td>3.808607</td>\n",
       "    </tr>\n",
       "    <tr>\n",
       "      <th>SGD</th>\n",
       "      <td>{'alpha': 0.011416662052915541, 'l1_ratio': 0....</td>\n",
       "      <td>4.221776</td>\n",
       "    </tr>\n",
       "  </tbody>\n",
       "</table>\n",
       "</div>"
      ],
      "text/plain": [
       "                                                   Best hyperparameters  \\\n",
       "Model                                                                     \n",
       "Linear Regression                                                    {}   \n",
       "Random Forest         {'criterion': 'squared_error', 'max_depth': 15...   \n",
       "XGB                   {'eta': 0.13462707592097856, 'gamma': 0.075639...   \n",
       "Gradient Boosting     {'learning_rate': 0.07540248655398828, 'max_de...   \n",
       "Support Vector - RBF  {'C': 56.119244014400074, 'gamma': 0.002682180...   \n",
       "ElasticNet            {'alpha': 0.0015442257663942972, 'l1_ratio': 0...   \n",
       "ADA Boost             {'learning_rate': 0.0026872109384420786, 'n_es...   \n",
       "Decision Tree         {'max_depth': 3, 'min_samples_leaf': 30, 'min_...   \n",
       "kNN                                                 {'n_neighbors': 56}   \n",
       "SGD                   {'alpha': 0.011416662052915541, 'l1_ratio': 0....   \n",
       "\n",
       "                          RMSE  \n",
       "Model                           \n",
       "Linear Regression     3.018366  \n",
       "Random Forest         3.523409  \n",
       "XGB                   3.531214  \n",
       "Gradient Boosting     3.551671  \n",
       "Support Vector - RBF  3.574463  \n",
       "ElasticNet            3.589290  \n",
       "ADA Boost             3.713393  \n",
       "Decision Tree         3.713767  \n",
       "kNN                   3.808607  \n",
       "SGD                   4.221776  "
      ]
     },
     "execution_count": 10,
     "metadata": {},
     "output_type": "execute_result"
    }
   ],
   "source": [
    "comp_df"
   ]
  }
 ],
 "metadata": {
  "kernelspec": {
   "display_name": "tsl_env",
   "language": "python",
   "name": "python3"
  },
  "language_info": {
   "codemirror_mode": {
    "name": "ipython",
    "version": 3
   },
   "file_extension": ".py",
   "mimetype": "text/x-python",
   "name": "python",
   "nbconvert_exporter": "python",
   "pygments_lexer": "ipython3",
   "version": "3.10.6"
  }
 },
 "nbformat": 4,
 "nbformat_minor": 2
}
