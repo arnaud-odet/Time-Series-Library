{
 "cells": [
  {
   "cell_type": "markdown",
   "metadata": {},
   "source": [
    "# <span style ='color:purple'>Import & settings"
   ]
  },
  {
   "cell_type": "code",
   "execution_count": null,
   "metadata": {},
   "outputs": [],
   "source": [
    "import numpy as np\n",
    "import pandas as pd\n",
    "import os\n",
    "import matplotlib.pyplot as plt\n",
    "import seaborn as sns\n",
    "%reload_ext autoreload\n",
    "%autoreload 2\n",
    "\n",
    "from data_provider.data_factory import data_provider\n",
    "from tabular.dl_logs import logs_summary, exp_summary\n",
    "from tabular.data import load_data\n",
    "from tabular.feature_engineering import compute_dispersion, compute_polarization, compute_centroid"
   ]
  },
  {
   "cell_type": "code",
   "execution_count": 2,
   "metadata": {},
   "outputs": [],
   "source": [
    "from types import SimpleNamespace\n",
    "lt_logs_df = pd.read_csv(os.path.join('./logs/long_term_forecast.csv'), index_col = 0)\n",
    "usc_args = SimpleNamespace(**lt_logs_df.loc[207].to_dict())"
   ]
  },
  {
   "cell_type": "code",
   "execution_count": 3,
   "metadata": {},
   "outputs": [],
   "source": [
    "seq_len = 32\n",
    "pred_len = seq_len\n",
    "usc_args.seq_len = seq_len\n",
    "usc_args.pred_len = pred_len\n",
    "usc_args.scale = False"
   ]
  },
  {
   "cell_type": "markdown",
   "metadata": {},
   "source": [
    "# <span style ='color:cyan'> Data loading"
   ]
  },
  {
   "cell_type": "code",
   "execution_count": 4,
   "metadata": {},
   "outputs": [
    {
     "data": {
      "text/plain": [
       "((56270, 32, 63), (56270,))"
      ]
     },
     "execution_count": 4,
     "metadata": {},
     "output_type": "execute_result"
    }
   ],
   "source": [
    "X,y = load_data(seq_len=seq_len, pred_len=pred_len, off_mask=False)\n",
    "X.shape, y.shape"
   ]
  },
  {
   "cell_type": "code",
   "execution_count": null,
   "metadata": {},
   "outputs": [
    {
     "data": {
      "text/plain": [
       "(56270, 32)"
      ]
     },
     "execution_count": 6,
     "metadata": {},
     "output_type": "execute_result"
    }
   ],
   "source": [
    "disp = compute_dispersion(X)\n",
    "disp.shape"
   ]
  },
  {
   "cell_type": "code",
   "execution_count": null,
   "metadata": {},
   "outputs": [
    {
     "data": {
      "text/plain": [
       "(56270, 32)"
      ]
     },
     "execution_count": 7,
     "metadata": {},
     "output_type": "execute_result"
    }
   ],
   "source": [
    "pol = compute_polarization(X)\n",
    "pol.shape"
   ]
  },
  {
   "cell_type": "code",
   "execution_count": 8,
   "metadata": {},
   "outputs": [
    {
     "data": {
      "text/plain": [
       "array([0.14417772, 0.14262362, 0.1677254 , 0.13825038, 0.1696454 ,\n",
       "       0.13837162, 0.12076344, 0.06806764, 0.06325693, 0.16080676,\n",
       "       0.23963253, 0.21157847, 0.22239843, 0.19134896, 0.20143096,\n",
       "       0.31848118, 0.3796935 , 0.31934643, 0.43901938, 0.4956889 ,\n",
       "       0.49060547, 0.57249045, 0.6259553 , 0.6332169 , 0.684906  ,\n",
       "       0.65883034, 0.6542749 , 0.66459477, 0.6491783 , 0.6821041 ,\n",
       "       0.62993234, 0.58583677], dtype=float32)"
      ]
     },
     "execution_count": 8,
     "metadata": {},
     "output_type": "execute_result"
    }
   ],
   "source": [
    "pol[0]"
   ]
  },
  {
   "cell_type": "code",
   "execution_count": 9,
   "metadata": {},
   "outputs": [
    {
     "data": {
      "text/plain": [
       "array([[0.14417772, 0.14262362, 0.1677254 , 0.13825038, 0.1696454 ,\n",
       "        0.13837162, 0.12076344, 0.06806764],\n",
       "       [0.06325693, 0.16080676, 0.23963253, 0.21157847, 0.22239843,\n",
       "        0.19134896, 0.20143096, 0.31848118],\n",
       "       [0.3796935 , 0.31934643, 0.43901938, 0.4956889 , 0.49060547,\n",
       "        0.57249045, 0.6259553 , 0.6332169 ],\n",
       "       [0.684906  , 0.65883034, 0.6542749 , 0.66459477, 0.6491783 ,\n",
       "        0.6821041 , 0.62993234, 0.58583677]], dtype=float32)"
      ]
     },
     "execution_count": 9,
     "metadata": {},
     "output_type": "execute_result"
    }
   ],
   "source": [
    "resh_pol = pol.reshape(pol.shape[0], 4,8)\n",
    "resh_pol[0]"
   ]
  },
  {
   "cell_type": "code",
   "execution_count": null,
   "metadata": {},
   "outputs": [],
   "source": [
    "\n",
    "def downsample_data(X, downsample_factor:int):\n",
    "    X.shape[1]\n",
    "    if  X.shape[1] % downsample_factor != 0 :"
   ]
  },
  {
   "cell_type": "code",
   "execution_count": null,
   "metadata": {},
   "outputs": [
    {
     "data": {
      "text/plain": [
       "<Axes: ylabel='Count'>"
      ]
     },
     "execution_count": 114,
     "metadata": {},
     "output_type": "execute_result"
    },
    {
     "data": {
      "image/png": "[encoded data removed]",
      "text/plain": [
       "<Figure size 640x480 with 1 Axes>"
      ]
     },
     "metadata": {},
     "output_type": "display_data"
    }
   ],
   "source": [
    "sns.histplot(x = pol[:,5])"
   ]
  }
 ],
 "metadata": {
  "kernelspec": {
   "display_name": "tsl_env",
   "language": "python",
   "name": "python3"
  },
  "language_info": {
   "codemirror_mode": {
    "name": "ipython",
    "version": 3
   },
   "file_extension": ".py",
   "mimetype": "text/x-python",
   "name": "python",
   "nbconvert_exporter": "python",
   "pygments_lexer": "ipython3",
   "version": "3.10.6"
  }
 },
 "nbformat": 4,
 "nbformat_minor": 2
}
