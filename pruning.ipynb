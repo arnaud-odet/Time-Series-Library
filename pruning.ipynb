{
 "cells": [
  {
   "cell_type": "code",
   "execution_count": 1,
   "metadata": {},
   "outputs": [],
   "source": [
    "import pandas as pd\n",
    "import numpy as np\n",
    "import matplotlib.pyplot as plt"
   ]
  },
  {
   "cell_type": "code",
   "execution_count": 11,
   "metadata": {},
   "outputs": [
    {
     "data": {
      "text/plain": [
       "[{'id': 0, 'init': 2, 'factor': 0.054, 'alive': True},\n",
       " {'id': 1, 'init': 0, 'factor': 0.713, 'alive': True},\n",
       " {'id': 2, 'init': 3, 'factor': 0.212, 'alive': True},\n",
       " {'id': 3, 'init': 0, 'factor': 0.057, 'alive': True},\n",
       " {'id': 4, 'init': 1, 'factor': 0.268, 'alive': True},\n",
       " {'id': 5, 'init': 3, 'factor': 0.047, 'alive': True},\n",
       " {'id': 6, 'init': 9, 'factor': 0.615, 'alive': True},\n",
       " {'id': 7, 'init': 7, 'factor': 0.376, 'alive': True},\n",
       " {'id': 8, 'init': 4, 'factor': 0.008, 'alive': True},\n",
       " {'id': 9, 'init': 5, 'factor': 0.191, 'alive': True},\n",
       " {'id': 10, 'init': 3, 'factor': 0.09, 'alive': True},\n",
       " {'id': 11, 'init': 1, 'factor': 0.565, 'alive': True},\n",
       " {'id': 12, 'init': 0, 'factor': 0.579, 'alive': True},\n",
       " {'id': 13, 'init': 0, 'factor': 0.659, 'alive': True},\n",
       " {'id': 14, 'init': 0, 'factor': 0.124, 'alive': True},\n",
       " {'id': 15, 'init': 9, 'factor': 0.04, 'alive': True},\n",
       " {'id': 16, 'init': 0, 'factor': 0.336, 'alive': True},\n",
       " {'id': 17, 'init': 7, 'factor': 0.975, 'alive': True},\n",
       " {'id': 18, 'init': 8, 'factor': 0.096, 'alive': True},\n",
       " {'id': 19, 'init': 9, 'factor': 0.965, 'alive': True}]"
      ]
     },
     "execution_count": 11,
     "metadata": {},
     "output_type": "execute_result"
    }
   ],
   "source": [
    "exps = [{'id' : i,'init':np.random.randint(0,10), 'factor':np.round(np.random.rand(),3), 'alive': True} for i in range(20)]\n",
    "exps"
   ]
  },
  {
   "cell_type": "code",
   "execution_count": 13,
   "metadata": {},
   "outputs": [
    {
     "data": {
      "text/plain": [
       "[{'id': 0,\n",
       "  'init': 2,\n",
       "  'factor': 0.054,\n",
       "  'alive': True,\n",
       "  'current_value': 0.0058319999999999995},\n",
       " {'id': 1, 'init': 0, 'factor': 0.713, 'alive': True, 'current_value': 0.0},\n",
       " {'id': 2,\n",
       "  'init': 3,\n",
       "  'factor': 0.212,\n",
       "  'alive': True,\n",
       "  'current_value': 0.134832},\n",
       " {'id': 3, 'init': 0, 'factor': 0.057, 'alive': True, 'current_value': 0.0},\n",
       " {'id': 4,\n",
       "  'init': 1,\n",
       "  'factor': 0.268,\n",
       "  'alive': True,\n",
       "  'current_value': 0.07182400000000001},\n",
       " {'id': 5,\n",
       "  'init': 3,\n",
       "  'factor': 0.047,\n",
       "  'alive': True,\n",
       "  'current_value': 0.006627000000000001},\n",
       " {'id': 6,\n",
       "  'init': 9,\n",
       "  'factor': 0.615,\n",
       "  'alive': True,\n",
       "  'current_value': 3.404025},\n",
       " {'id': 7,\n",
       "  'init': 7,\n",
       "  'factor': 0.376,\n",
       "  'alive': True,\n",
       "  'current_value': 0.9896320000000001},\n",
       " {'id': 8,\n",
       "  'init': 4,\n",
       "  'factor': 0.008,\n",
       "  'alive': True,\n",
       "  'current_value': 0.000256},\n",
       " {'id': 9,\n",
       "  'init': 5,\n",
       "  'factor': 0.191,\n",
       "  'alive': True,\n",
       "  'current_value': 0.182405},\n",
       " {'id': 10,\n",
       "  'init': 3,\n",
       "  'factor': 0.09,\n",
       "  'alive': True,\n",
       "  'current_value': 0.024300000000000002},\n",
       " {'id': 11,\n",
       "  'init': 1,\n",
       "  'factor': 0.565,\n",
       "  'alive': True,\n",
       "  'current_value': 0.3192249999999999},\n",
       " {'id': 12, 'init': 0, 'factor': 0.579, 'alive': True, 'current_value': 0.0},\n",
       " {'id': 13, 'init': 0, 'factor': 0.659, 'alive': True, 'current_value': 0.0},\n",
       " {'id': 14, 'init': 0, 'factor': 0.124, 'alive': True, 'current_value': 0.0},\n",
       " {'id': 15, 'init': 9, 'factor': 0.04, 'alive': True, 'current_value': 0.0144},\n",
       " {'id': 16, 'init': 0, 'factor': 0.336, 'alive': True, 'current_value': 0.0},\n",
       " {'id': 17,\n",
       "  'init': 7,\n",
       "  'factor': 0.975,\n",
       "  'alive': True,\n",
       "  'current_value': 6.654375},\n",
       " {'id': 18,\n",
       "  'init': 8,\n",
       "  'factor': 0.096,\n",
       "  'alive': True,\n",
       "  'current_value': 0.073728},\n",
       " {'id': 19,\n",
       "  'init': 9,\n",
       "  'factor': 0.965,\n",
       "  'alive': True,\n",
       "  'current_value': 8.381025000000001}]"
      ]
     },
     "execution_count": 13,
     "metadata": {},
     "output_type": "execute_result"
    }
   ],
   "source": [
    "n_steps = 1\n",
    "for exp in exps :\n",
    "    for k in range(n_steps):\n",
    "        init_val = exp['init']\n",
    "        exp['current_value'] = exp.get('current_value', init_val) * exp['factor']\n",
    "exps"
   ]
  }
 ],
 "metadata": {
  "kernelspec": {
   "display_name": "tsl_env",
   "language": "python",
   "name": "python3"
  },
  "language_info": {
   "codemirror_mode": {
    "name": "ipython",
    "version": 3
   },
   "file_extension": ".py",
   "mimetype": "text/x-python",
   "name": "python",
   "nbconvert_exporter": "python",
   "pygments_lexer": "ipython3",
   "version": "3.10.6"
  }
 },
 "nbformat": 4,
 "nbformat_minor": 2
}
