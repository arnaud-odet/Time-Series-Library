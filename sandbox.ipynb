{
 "cells": [
  {
   "cell_type": "code",
   "execution_count": 1,
   "metadata": {},
   "outputs": [],
   "source": [
    "import os \n",
    "import numpy as np\n",
    "import pandas as pd\n",
    "import torch\n",
    "import math\n",
    "from adapt.translator import usc_data_translator\n",
    "\n",
    "%reload_ext autoreload\n",
    "%autoreload 2"
   ]
  },
  {
   "cell_type": "code",
   "execution_count": 2,
   "metadata": {},
   "outputs": [],
   "source": [
    "lt_logs_df = pd.read_csv('./logs/long_term_forecast.csv', index_col = 0)\n",
    "from types import SimpleNamespace\n",
    "ett_args = SimpleNamespace(**lt_logs_df.loc[2].to_dict())\n",
    "usc_args = SimpleNamespace(**lt_logs_df.loc[26].to_dict())\n",
    "bball_args = SimpleNamespace(**lt_logs_df.loc[106].to_dict())\n",
    "ett_args.batch_size = 25\n",
    "usc_args.batch_size = 25\n",
    "bball_args.batch_size = 25\n",
    "\n",
    "usc_args.input_features = 'P'"
   ]
  },
  {
   "cell_type": "code",
   "execution_count": 3,
   "metadata": {},
   "outputs": [
    {
     "data": {
      "text/plain": [
       "256"
      ]
     },
     "execution_count": 3,
     "metadata": {},
     "output_type": "execute_result"
    }
   ],
   "source": [
    "usc_args.d_model"
   ]
  },
  {
   "cell_type": "code",
   "execution_count": 4,
   "metadata": {},
   "outputs": [
    {
     "data": {
      "text/plain": [
       "(117467, 50, 22)"
      ]
     },
     "execution_count": 4,
     "metadata": {},
     "output_type": "execute_result"
    }
   ],
   "source": [
    "bball = np.load('./dataset/bball/all_data.npy')\n",
    "bball.shape"
   ]
  },
  {
   "cell_type": "code",
   "execution_count": 5,
   "metadata": {},
   "outputs": [
    {
     "data": {
      "text/plain": [
       "array([[36.507, 39.35 , 18.69 , ..., 16.602, 21.337, 23.843],\n",
       "       [34.941, 38.831, 16.745, ..., 16.601, 20.07 , 24.229],\n",
       "       [33.812, 38.373, 15.033, ..., 16.47 , 19.097, 24.51 ],\n",
       "       ...,\n",
       "       [31.99 , 40.147, 35.023, ..., 33.046, 19.141, 19.01 ],\n",
       "       [31.484, 40.863, 34.938, ..., 34.167, 18.908, 19.443],\n",
       "       [30.415, 41.189, 34.818, ..., 35.066, 18.811, 19.877]])"
      ]
     },
     "execution_count": 5,
     "metadata": {},
     "output_type": "execute_result"
    }
   ],
   "source": [
    "bball[0]"
   ]
  },
  {
   "cell_type": "markdown",
   "metadata": {},
   "source": [
    "### ETT"
   ]
  },
  {
   "cell_type": "code",
   "execution_count": 88,
   "metadata": {},
   "outputs": [
    {
     "name": "stdout",
     "output_type": "stream",
     "text": [
      "train 34129\n"
     ]
    }
   ],
   "source": [
    "from data_provider.data_loader import Dataset_ETT_minute\n",
    "from data_provider.data_factory import data_provider\n",
    "\n",
    "ettds, ettdl = data_provider(args = ett_args, flag = 'train')"
   ]
  },
  {
   "cell_type": "code",
   "execution_count": 89,
   "metadata": {},
   "outputs": [
    {
     "data": {
      "text/plain": [
       "(34560, 7)"
      ]
     },
     "execution_count": 89,
     "metadata": {},
     "output_type": "execute_result"
    }
   ],
   "source": [
    "ettds.data_x.shape"
   ]
  },
  {
   "cell_type": "code",
   "execution_count": 90,
   "metadata": {},
   "outputs": [
    {
     "data": {
      "text/plain": [
       "(34129, 1366, 25)"
      ]
     },
     "execution_count": 90,
     "metadata": {},
     "output_type": "execute_result"
    }
   ],
   "source": [
    "ettds.__len__(), ettdl.__len__(), ettdl.batch_size"
   ]
  },
  {
   "cell_type": "code",
   "execution_count": 91,
   "metadata": {},
   "outputs": [
    {
     "data": {
      "text/plain": [
       "(96, 4)"
      ]
     },
     "execution_count": 91,
     "metadata": {},
     "output_type": "execute_result"
    }
   ],
   "source": [
    "ettds.__getitem__(0)[2].shape"
   ]
  },
  {
   "cell_type": "code",
   "execution_count": 92,
   "metadata": {},
   "outputs": [],
   "source": [
    "x,y, x_mark, y_mark = next(iter(ettdl))"
   ]
  },
  {
   "cell_type": "code",
   "execution_count": 93,
   "metadata": {},
   "outputs": [
    {
     "data": {
      "text/plain": [
       "torch.Size([384, 4])"
      ]
     },
     "execution_count": 93,
     "metadata": {},
     "output_type": "execute_result"
    }
   ],
   "source": [
    "y_mark[0].shape"
   ]
  },
  {
   "cell_type": "markdown",
   "metadata": {},
   "source": [
    "### USC"
   ]
  },
  {
   "cell_type": "code",
   "execution_count": 94,
   "metadata": {},
   "outputs": [
    {
     "name": "stdout",
     "output_type": "stream",
     "text": [
      "train 23019\n"
     ]
    },
    {
     "data": {
      "text/plain": [
       "(False, False, (23019, 64, 32), -11.205336, 9.347016)"
      ]
     },
     "execution_count": 94,
     "metadata": {},
     "output_type": "execute_result"
    }
   ],
   "source": [
    "uscds, uscdl = data_provider(args= usc_args, flag = 'train')\n",
    "np.isnan(uscds.data_x).any(), np.isnan(uscds.data_y).any(), uscds.data_x.shape , uscds.data_x.min(), uscds.data_x.max()"
   ]
  },
  {
   "cell_type": "code",
   "execution_count": 95,
   "metadata": {},
   "outputs": [],
   "source": [
    "x,y, x_mark, y_mark = next(iter(uscdl))"
   ]
  },
  {
   "cell_type": "code",
   "execution_count": 96,
   "metadata": {},
   "outputs": [],
   "source": [
    "import torch\n",
    "x.shape\n",
    "tmp = []\n",
    "for i in range(x.shape[0]) :\n",
    "    agent_data = [x[i, :, 2 + p :4 + p ] for p in range(15)] \n",
    "    #agent_data = torch.cat([x[i, :, 2 + p :4 + p ].reshape(1,x.shape[1],2) for p in range(15)]) \n",
    "    d = [ ad[-1,:] - ad[-2,:] for ad in agent_data]\n",
    "    degree = [math.atan2(dp[1], dp[0]) for dp in d]\n",
    "    prev_positions = torch.cat([torch.Tensor([ad[-1,0], ad[-1,1],ad[-2,0], ad[-2,1]]).reshape(1,4) for ad in agent_data])\n",
    "    meta_info = torch.cat((torch.Tensor(degree).reshape(15,1), prev_positions),1)\n",
    "    \n",
    "    "
   ]
  },
  {
   "cell_type": "code",
   "execution_count": 97,
   "metadata": {},
   "outputs": [
    {
     "data": {
      "text/plain": [
       "torch.Size([15, 5])"
      ]
     },
     "execution_count": 97,
     "metadata": {},
     "output_type": "execute_result"
    }
   ],
   "source": [
    "meta_info.shape"
   ]
  },
  {
   "cell_type": "code",
   "execution_count": 98,
   "metadata": {},
   "outputs": [
    {
     "data": {
      "text/plain": [
       "(15, torch.Size([64, 2]))"
      ]
     },
     "execution_count": 98,
     "metadata": {},
     "output_type": "execute_result"
    }
   ],
   "source": [
    "len(agent_data), agent_data[0].shape"
   ]
  },
  {
   "cell_type": "code",
   "execution_count": 100,
   "metadata": {},
   "outputs": [],
   "source": [
    "test = usc_data_translator(x, args = usc_args)"
   ]
  },
  {
   "cell_type": "code",
   "execution_count": 109,
   "metadata": {},
   "outputs": [
    {
     "data": {
      "text/plain": [
       "(25, 15, torch.Size([64, 2]))"
      ]
     },
     "execution_count": 109,
     "metadata": {},
     "output_type": "execute_result"
    }
   ],
   "source": [
    "agent_data = [test[i][\"agent_data\"] for i in range(25)]\n",
    "len(agent_data), len(agent_data[23]), agent_data[23][11].shape"
   ]
  },
  {
   "cell_type": "code",
   "execution_count": 101,
   "metadata": {},
   "outputs": [
    {
     "name": "stdout",
     "output_type": "stream",
     "text": [
      "agent_data <class 'list'>\n",
      "lane_data <class 'list'>\n",
      "city_name <class 'NoneType'>\n",
      "file_name <class 'NoneType'>\n",
      "origin_labels <class 'NoneType'>\n",
      "labels <class 'torch.Tensor'>\n",
      "label_is_valid <class 'torch.Tensor'>\n",
      "consider <class 'torch.Tensor'>\n",
      "cent_x <class 'NoneType'>\n",
      "cent_y <class 'NoneType'>\n",
      "angle <class 'NoneType'>\n",
      "meta_info <class 'torch.Tensor'>\n"
     ]
    }
   ],
   "source": [
    "for k,v in test[0].items() :\n",
    "    print(k, type(v))"
   ]
  },
  {
   "cell_type": "markdown",
   "metadata": {},
   "source": [
    "### USC Summary & model analysis"
   ]
  },
  {
   "cell_type": "code",
   "execution_count": 60,
   "metadata": {},
   "outputs": [
    {
     "name": "stdout",
     "output_type": "stream",
     "text": [
      " Processing file 10 out of 10\r"
     ]
    },
    {
     "data": {
      "text/html": [
       "<div>\n",
       "<style scoped>\n",
       "    .dataframe tbody tr th:only-of-type {\n",
       "        vertical-align: middle;\n",
       "    }\n",
       "\n",
       "    .dataframe tbody tr th {\n",
       "        vertical-align: top;\n",
       "    }\n",
       "\n",
       "    .dataframe thead th {\n",
       "        text-align: right;\n",
       "    }\n",
       "</style>\n",
       "<table border=\"1\" class=\"dataframe\">\n",
       "  <thead>\n",
       "    <tr style=\"text-align: right;\">\n",
       "      <th></th>\n",
       "      <th>f</th>\n",
       "      <th>shape</th>\n",
       "      <th>min</th>\n",
       "      <th>max</th>\n",
       "      <th>x_min</th>\n",
       "      <th>x_max</th>\n",
       "      <th>y_min</th>\n",
       "      <th>y_max</th>\n",
       "      <th>vx_min</th>\n",
       "      <th>vx_max</th>\n",
       "      <th>vy_min</th>\n",
       "      <th>vy_max</th>\n",
       "    </tr>\n",
       "  </thead>\n",
       "  <tbody>\n",
       "    <tr>\n",
       "      <th>0</th>\n",
       "      <td>PVTO_seq48_tar48_X.npy</td>\n",
       "      <td>(46530, 48, 63)</td>\n",
       "      <td>-32.532787</td>\n",
       "      <td>129.939774</td>\n",
       "      <td>-29.809175</td>\n",
       "      <td>129.939774</td>\n",
       "      <td>-19.990734</td>\n",
       "      <td>89.974266</td>\n",
       "      <td>-2.993788</td>\n",
       "      <td>2.971190</td>\n",
       "      <td>-2.94513</td>\n",
       "      <td>2.968086</td>\n",
       "    </tr>\n",
       "    <tr>\n",
       "      <th>1</th>\n",
       "      <td>PVTO_seq32_tar32_y.npy</td>\n",
       "      <td>(56173, 32, 63)</td>\n",
       "      <td>-57.081276</td>\n",
       "      <td>129.945679</td>\n",
       "      <td>-29.416340</td>\n",
       "      <td>129.945679</td>\n",
       "      <td>-19.967653</td>\n",
       "      <td>89.974266</td>\n",
       "      <td>-2.984167</td>\n",
       "      <td>2.971190</td>\n",
       "      <td>-2.94513</td>\n",
       "      <td>2.994125</td>\n",
       "    </tr>\n",
       "    <tr>\n",
       "      <th>2</th>\n",
       "      <td>PVTO_seq24_tar24_X.npy</td>\n",
       "      <td>(61648, 24, 63)</td>\n",
       "      <td>-29.809175</td>\n",
       "      <td>129.939774</td>\n",
       "      <td>-29.809175</td>\n",
       "      <td>129.939774</td>\n",
       "      <td>-19.990734</td>\n",
       "      <td>89.974266</td>\n",
       "      <td>-2.993788</td>\n",
       "      <td>2.971190</td>\n",
       "      <td>-2.94513</td>\n",
       "      <td>2.994125</td>\n",
       "    </tr>\n",
       "    <tr>\n",
       "      <th>3</th>\n",
       "      <td>PVTO_seq24_tar24_y.npy</td>\n",
       "      <td>(61648, 24, 63)</td>\n",
       "      <td>-57.081276</td>\n",
       "      <td>129.945679</td>\n",
       "      <td>-29.416340</td>\n",
       "      <td>129.945679</td>\n",
       "      <td>-19.988234</td>\n",
       "      <td>89.974266</td>\n",
       "      <td>-2.984167</td>\n",
       "      <td>2.971190</td>\n",
       "      <td>-2.94513</td>\n",
       "      <td>2.994125</td>\n",
       "    </tr>\n",
       "    <tr>\n",
       "      <th>4</th>\n",
       "      <td>PVTO_seq32_tar32_X.npy</td>\n",
       "      <td>(56173, 32, 63)</td>\n",
       "      <td>-29.809175</td>\n",
       "      <td>129.939774</td>\n",
       "      <td>-29.809175</td>\n",
       "      <td>129.939774</td>\n",
       "      <td>-19.990734</td>\n",
       "      <td>89.974266</td>\n",
       "      <td>-2.993788</td>\n",
       "      <td>2.971190</td>\n",
       "      <td>-2.94513</td>\n",
       "      <td>2.968086</td>\n",
       "    </tr>\n",
       "    <tr>\n",
       "      <th>5</th>\n",
       "      <td>PVTO_seq16_tar16_X.npy</td>\n",
       "      <td>(67701, 16, 63)</td>\n",
       "      <td>-29.809175</td>\n",
       "      <td>129.952011</td>\n",
       "      <td>-29.809175</td>\n",
       "      <td>129.952011</td>\n",
       "      <td>-19.990734</td>\n",
       "      <td>89.974266</td>\n",
       "      <td>-2.993788</td>\n",
       "      <td>2.971190</td>\n",
       "      <td>-2.94513</td>\n",
       "      <td>2.994125</td>\n",
       "    </tr>\n",
       "    <tr>\n",
       "      <th>6</th>\n",
       "      <td>PVTO_seq64_tar64_y.npy</td>\n",
       "      <td>(38366, 64, 63)</td>\n",
       "      <td>-57.081276</td>\n",
       "      <td>129.880692</td>\n",
       "      <td>-29.416340</td>\n",
       "      <td>129.880692</td>\n",
       "      <td>-18.236652</td>\n",
       "      <td>89.974266</td>\n",
       "      <td>-2.984167</td>\n",
       "      <td>2.947705</td>\n",
       "      <td>-2.94513</td>\n",
       "      <td>2.968086</td>\n",
       "    </tr>\n",
       "    <tr>\n",
       "      <th>7</th>\n",
       "      <td>PVTO_seq48_tar48_y.npy</td>\n",
       "      <td>(46530, 48, 63)</td>\n",
       "      <td>-57.081276</td>\n",
       "      <td>129.945679</td>\n",
       "      <td>-29.416340</td>\n",
       "      <td>129.945679</td>\n",
       "      <td>-19.967653</td>\n",
       "      <td>89.974266</td>\n",
       "      <td>-2.984167</td>\n",
       "      <td>2.971190</td>\n",
       "      <td>-2.94513</td>\n",
       "      <td>2.994125</td>\n",
       "    </tr>\n",
       "    <tr>\n",
       "      <th>8</th>\n",
       "      <td>PVTO_seq16_tar16_y.npy</td>\n",
       "      <td>(67701, 16, 63)</td>\n",
       "      <td>-57.081276</td>\n",
       "      <td>129.945679</td>\n",
       "      <td>-29.416340</td>\n",
       "      <td>129.945679</td>\n",
       "      <td>-19.988234</td>\n",
       "      <td>89.974266</td>\n",
       "      <td>-2.984167</td>\n",
       "      <td>2.971190</td>\n",
       "      <td>-2.94513</td>\n",
       "      <td>2.994125</td>\n",
       "    </tr>\n",
       "    <tr>\n",
       "      <th>9</th>\n",
       "      <td>PVTO_seq64_tar64_X.npy</td>\n",
       "      <td>(38366, 64, 63)</td>\n",
       "      <td>-35.836102</td>\n",
       "      <td>129.939774</td>\n",
       "      <td>-29.809175</td>\n",
       "      <td>129.939774</td>\n",
       "      <td>-18.236652</td>\n",
       "      <td>89.974266</td>\n",
       "      <td>-2.993788</td>\n",
       "      <td>2.971190</td>\n",
       "      <td>-2.94513</td>\n",
       "      <td>2.968086</td>\n",
       "    </tr>\n",
       "  </tbody>\n",
       "</table>\n",
       "</div>"
      ],
      "text/plain": [
       "                        f            shape        min         max      x_min  \\\n",
       "0  PVTO_seq48_tar48_X.npy  (46530, 48, 63) -32.532787  129.939774 -29.809175   \n",
       "1  PVTO_seq32_tar32_y.npy  (56173, 32, 63) -57.081276  129.945679 -29.416340   \n",
       "2  PVTO_seq24_tar24_X.npy  (61648, 24, 63) -29.809175  129.939774 -29.809175   \n",
       "3  PVTO_seq24_tar24_y.npy  (61648, 24, 63) -57.081276  129.945679 -29.416340   \n",
       "4  PVTO_seq32_tar32_X.npy  (56173, 32, 63) -29.809175  129.939774 -29.809175   \n",
       "5  PVTO_seq16_tar16_X.npy  (67701, 16, 63) -29.809175  129.952011 -29.809175   \n",
       "6  PVTO_seq64_tar64_y.npy  (38366, 64, 63) -57.081276  129.880692 -29.416340   \n",
       "7  PVTO_seq48_tar48_y.npy  (46530, 48, 63) -57.081276  129.945679 -29.416340   \n",
       "8  PVTO_seq16_tar16_y.npy  (67701, 16, 63) -57.081276  129.945679 -29.416340   \n",
       "9  PVTO_seq64_tar64_X.npy  (38366, 64, 63) -35.836102  129.939774 -29.809175   \n",
       "\n",
       "        x_max      y_min      y_max    vx_min    vx_max   vy_min    vy_max  \n",
       "0  129.939774 -19.990734  89.974266 -2.993788  2.971190 -2.94513  2.968086  \n",
       "1  129.945679 -19.967653  89.974266 -2.984167  2.971190 -2.94513  2.994125  \n",
       "2  129.939774 -19.990734  89.974266 -2.993788  2.971190 -2.94513  2.994125  \n",
       "3  129.945679 -19.988234  89.974266 -2.984167  2.971190 -2.94513  2.994125  \n",
       "4  129.939774 -19.990734  89.974266 -2.993788  2.971190 -2.94513  2.968086  \n",
       "5  129.952011 -19.990734  89.974266 -2.993788  2.971190 -2.94513  2.994125  \n",
       "6  129.880692 -18.236652  89.974266 -2.984167  2.947705 -2.94513  2.968086  \n",
       "7  129.945679 -19.967653  89.974266 -2.984167  2.971190 -2.94513  2.994125  \n",
       "8  129.945679 -19.988234  89.974266 -2.984167  2.971190 -2.94513  2.994125  \n",
       "9  129.939774 -18.236652  89.974266 -2.993788  2.971190 -2.94513  2.968086  "
      ]
     },
     "execution_count": 60,
     "metadata": {},
     "output_type": "execute_result"
    }
   ],
   "source": [
    "x_coords = [False]*3 + [i %4 == 3 for i in range(3, 63)]\n",
    "y_coords = [False]*3 + [i %4 == 0 for i in range(3, 63)]\n",
    "vx_coords = [False]*3 + [i %4 == 1 for i in range(3, 63)]\n",
    "vy_coords = [False]*3 + [i %4 == 2 for i in range(3, 63)]\n",
    "stats = []\n",
    "for i, f in enumerate(os.listdir(usc_args.root_path)):\n",
    "    print(f\" Processing file {i+1} out of {len(os.listdir(usc_args.root_path))}\", end = '\\r')\n",
    "    tmp = np.load(os.path.join(usc_args.root_path, f))\n",
    "    x_min, x_max, y_min, y_max = tmp[:,:,x_coords].min(), tmp[:,:,x_coords].max(), tmp[:,:,y_coords].min(), tmp[:,:,y_coords].max()\n",
    "    vx_min, vx_max, vy_min, vy_max = tmp[:,:,vx_coords].min(), tmp[:,:,vx_coords].max(), tmp[:,:,vy_coords].min(), tmp[:,:,vy_coords].max()\n",
    "    g_min, g_max = tmp[:,:,1:].min(), tmp[:,:,1:].max()\n",
    "    stats.append({'f':f, 'shape':tmp.shape, 'min':g_min, 'max':g_max, \n",
    "                  'x_min':x_min, 'x_max':x_max, 'y_min':y_min, 'y_max':y_max, \n",
    "                  'vx_min':vx_min, 'vx_max':vx_max, 'vy_min':vy_min, 'vy_max':vy_max})\n",
    "pd.DataFrame(stats)"
   ]
  },
  {
   "cell_type": "code",
   "execution_count": 71,
   "metadata": {},
   "outputs": [
    {
     "name": "stdout",
     "output_type": "stream",
     "text": [
      "Model quick summary\n",
      "=======================================================================================\n",
      "Layer name                    |          Nb units|      Nb tr params|  Nb non tr params\n",
      "LSTM_0                        |               256|           296 960|                 0\n",
      "Linear_0                      |               256|             8 448|                 0\n",
      "LayerNorm_0                   |                 -|               512|                 0\n",
      "Linear_1                      |               256|            65 792|                 0\n",
      "TransformerEncoderLayer_0     |               256|         1 315 072|                 0\n",
      "Linear_2                      |               256|            65 792|                 0\n",
      "LayerNorm_1                   |                 -|               512|                 0\n",
      "Linear_3                      |               256|            65 792|                 0\n",
      "LayerNorm_2                   |                 -|               512|                 0\n",
      "Linear_4                      |                24|             6 168|                 0\n",
      "=======================================================================================\n",
      "Skip_connections : True\n",
      "Transformer_nb_heads : 8\n",
      "Transformer_FF_units : 2048\n",
      "Dropout_rate : p = 0.25\n",
      "\n",
      "Nb trainable parameters : 1 825 560\n",
      "Nb non-trainable parameters : 0\n",
      "Total nb parameters : 1 825 560\n",
      "\n",
      "Dummy input shape : torch.Size([1, 24, 32]) | dummy output shape : torch.Size([1, 24, 24])\n"
     ]
    }
   ],
   "source": [
    "from models.LSTransformer import Model\n",
    "from utils.model_wrapper import ModelWrapper\n",
    "usc_args.seq_len, usc_args.pred_len = 24,24\n",
    "model = ModelWrapper(Model(configs=usc_args), usc_args)\n",
    "model.summary()"
   ]
  },
  {
   "cell_type": "code",
   "execution_count": null,
   "metadata": {},
   "outputs": [],
   "source": []
  }
 ],
 "metadata": {
  "kernelspec": {
   "display_name": "tsl_env",
   "language": "python",
   "name": "python3"
  },
  "language_info": {
   "codemirror_mode": {
    "name": "ipython",
    "version": 3
   },
   "file_extension": ".py",
   "mimetype": "text/x-python",
   "name": "python",
   "nbconvert_exporter": "python",
   "pygments_lexer": "ipython3",
   "version": "3.10.6"
  }
 },
 "nbformat": 4,
 "nbformat_minor": 2
}
