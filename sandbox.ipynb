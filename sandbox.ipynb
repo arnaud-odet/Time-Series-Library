{
 "cells": [
  {
   "cell_type": "code",
   "execution_count": 2,
   "metadata": {},
   "outputs": [],
   "source": [
    "import os \n",
    "import numpy as np\n",
    "import pandas as pd\n",
    "%reload_ext autoreload\n",
    "%autoreload 2"
   ]
  },
  {
   "cell_type": "code",
   "execution_count": 3,
   "metadata": {},
   "outputs": [],
   "source": [
    "lt_logs_df = pd.read_csv('./logs/long_term_forecast.csv', index_col = 0)\n",
    "from types import SimpleNamespace\n",
    "args = SimpleNamespace(**lt_logs_df.loc[21].to_dict())"
   ]
  },
  {
   "cell_type": "markdown",
   "metadata": {},
   "source": [
    "### ETT"
   ]
  },
  {
   "cell_type": "code",
   "execution_count": 4,
   "metadata": {},
   "outputs": [
    {
     "name": "stdout",
     "output_type": "stream",
     "text": [
      "train 34273\n"
     ]
    }
   ],
   "source": [
    "from data_provider.data_loader import Dataset_ETT_minute\n",
    "from data_provider.data_factory import data_provider\n",
    "\n",
    "ettds, ettdl = data_provider(args = args, flag = 'train')"
   ]
  },
  {
   "cell_type": "code",
   "execution_count": 5,
   "metadata": {},
   "outputs": [
    {
     "data": {
      "text/plain": [
       "(34560, 7)"
      ]
     },
     "execution_count": 5,
     "metadata": {},
     "output_type": "execute_result"
    }
   ],
   "source": [
    "ettds.data_x.shape"
   ]
  },
  {
   "cell_type": "code",
   "execution_count": 6,
   "metadata": {},
   "outputs": [
    {
     "data": {
      "text/plain": [
       "(34273, 536, 64)"
      ]
     },
     "execution_count": 6,
     "metadata": {},
     "output_type": "execute_result"
    }
   ],
   "source": [
    "ettds.__len__(), ettdl.__len__(), ettdl.batch_size"
   ]
  },
  {
   "cell_type": "code",
   "execution_count": 7,
   "metadata": {},
   "outputs": [
    {
     "name": "stdout",
     "output_type": "stream",
     "text": [
      "4\n"
     ]
    },
    {
     "data": {
      "text/plain": [
       "(96, 7)"
      ]
     },
     "execution_count": 7,
     "metadata": {},
     "output_type": "execute_result"
    }
   ],
   "source": [
    "print(len(ettds.__getitem__(0)))\n",
    "ettds.__getitem__(0)[0].shape"
   ]
  },
  {
   "cell_type": "markdown",
   "metadata": {},
   "source": [
    "### USC"
   ]
  },
  {
   "cell_type": "code",
   "execution_count": 15,
   "metadata": {},
   "outputs": [
    {
     "name": "stdout",
     "output_type": "stream",
     "text": [
      "train 29509\n"
     ]
    },
    {
     "data": {
      "text/plain": [
       "(False, False, (29509, 48, 32), -263.25995, 219.6671)"
      ]
     },
     "execution_count": 15,
     "metadata": {},
     "output_type": "execute_result"
    }
   ],
   "source": [
    "sequence_len = 48\n",
    "target_len = 192\n",
    "dim = 32\n",
    "args.seq_len = sequence_len\n",
    "args.pred_len = target_len\n",
    "args.root_path = './dataset/USC/'\n",
    "args.data = 'USC'\n",
    "args.input_features = 'V'\n",
    "args.use_action_progress = True\n",
    "args.use_offense = True\n",
    "args.enc_in, args.dec_in, args.c_out = dim, dim , dim\n",
    "ind_coords = int(args.use_action_progress) + int(args.use_offense)\n",
    "\n",
    "uscds, uscdl = data_provider(args= args, flag = 'train')\n",
    "np.isnan(uscds.data_x).any(), np.isnan(uscds.data_y).any(), uscds.data_x.shape , uscds.data_x[:,:,ind_coords:].min(), uscds.data_x[:,:,ind_coords:].max()"
   ]
  },
  {
   "cell_type": "code",
   "execution_count": 9,
   "metadata": {},
   "outputs": [
    {
     "data": {
      "text/plain": [
       "((24542, 64, 32), 24542, 384, 64)"
      ]
     },
     "execution_count": 9,
     "metadata": {},
     "output_type": "execute_result"
    }
   ],
   "source": [
    "uscds.data_x.shape, len(uscds.data_x),  uscdl.__len__(), uscdl.batch_size"
   ]
  },
  {
   "cell_type": "code",
   "execution_count": 17,
   "metadata": {},
   "outputs": [
    {
     "name": "stdout",
     "output_type": "stream",
     "text": [
      "PVTO_seq48_tar48_X.npy\n",
      "PVTO_seq32_tar32_y.npy\n",
      "PVTO_seq24_tar24_X.npy\n",
      "PVTO_seq24_tar24_y.npy\n",
      "PVTO_seq32_tar32_X.npy\n",
      "PVTO_seq16_tar16_X.npy\n",
      "PVTO_seq64_tar64_y.npy\n",
      "PVTO_seq48_tar48_y.npy\n",
      "PVTO_seq16_tar16_y.npy\n",
      "PVTO_seq64_tar64_X.npy\n"
     ]
    },
    {
     "data": {
      "text/html": [
       "<div>\n",
       "<style scoped>\n",
       "    .dataframe tbody tr th:only-of-type {\n",
       "        vertical-align: middle;\n",
       "    }\n",
       "\n",
       "    .dataframe tbody tr th {\n",
       "        vertical-align: top;\n",
       "    }\n",
       "\n",
       "    .dataframe thead th {\n",
       "        text-align: right;\n",
       "    }\n",
       "</style>\n",
       "<table border=\"1\" class=\"dataframe\">\n",
       "  <thead>\n",
       "    <tr style=\"text-align: right;\">\n",
       "      <th></th>\n",
       "      <th>f</th>\n",
       "      <th>shape</th>\n",
       "      <th>min</th>\n",
       "      <th>max</th>\n",
       "      <th>x_min</th>\n",
       "      <th>x_max</th>\n",
       "      <th>y_min</th>\n",
       "      <th>y_max</th>\n",
       "      <th>vx_min</th>\n",
       "      <th>vx_max</th>\n",
       "      <th>vy_min</th>\n",
       "      <th>vy_max</th>\n",
       "    </tr>\n",
       "  </thead>\n",
       "  <tbody>\n",
       "    <tr>\n",
       "      <th>0</th>\n",
       "      <td>PVTO_seq48_tar48_X.npy</td>\n",
       "      <td>(49183, 48, 63)</td>\n",
       "      <td>-4.666577e+06</td>\n",
       "      <td>129.939774</td>\n",
       "      <td>-29.616024</td>\n",
       "      <td>129.939774</td>\n",
       "      <td>-19.945639</td>\n",
       "      <td>89.974266</td>\n",
       "      <td>-55.459255</td>\n",
       "      <td>10.666189</td>\n",
       "      <td>-27.167757</td>\n",
       "      <td>43.293716</td>\n",
       "    </tr>\n",
       "    <tr>\n",
       "      <th>1</th>\n",
       "      <td>PVTO_seq32_tar32_y.npy</td>\n",
       "      <td>(58181, 32, 63)</td>\n",
       "      <td>-5.708128e+01</td>\n",
       "      <td>129.964691</td>\n",
       "      <td>-29.653769</td>\n",
       "      <td>129.964691</td>\n",
       "      <td>-19.986343</td>\n",
       "      <td>89.974266</td>\n",
       "      <td>-55.459255</td>\n",
       "      <td>58.255981</td>\n",
       "      <td>-27.167757</td>\n",
       "      <td>43.293716</td>\n",
       "    </tr>\n",
       "    <tr>\n",
       "      <th>2</th>\n",
       "      <td>PVTO_seq24_tar24_X.npy</td>\n",
       "      <td>(63762, 24, 63)</td>\n",
       "      <td>-4.666577e+06</td>\n",
       "      <td>129.939774</td>\n",
       "      <td>-29.616024</td>\n",
       "      <td>129.939774</td>\n",
       "      <td>-19.952444</td>\n",
       "      <td>89.974266</td>\n",
       "      <td>-55.459255</td>\n",
       "      <td>24.223558</td>\n",
       "      <td>-27.167757</td>\n",
       "      <td>43.293716</td>\n",
       "    </tr>\n",
       "    <tr>\n",
       "      <th>3</th>\n",
       "      <td>PVTO_seq24_tar24_y.npy</td>\n",
       "      <td>(63762, 24, 63)</td>\n",
       "      <td>-4.666577e+06</td>\n",
       "      <td>129.964691</td>\n",
       "      <td>-29.653769</td>\n",
       "      <td>129.964691</td>\n",
       "      <td>-19.995951</td>\n",
       "      <td>89.974266</td>\n",
       "      <td>-55.459255</td>\n",
       "      <td>58.255981</td>\n",
       "      <td>-27.167757</td>\n",
       "      <td>43.293716</td>\n",
       "    </tr>\n",
       "    <tr>\n",
       "      <th>4</th>\n",
       "      <td>PVTO_seq32_tar32_X.npy</td>\n",
       "      <td>(58181, 32, 63)</td>\n",
       "      <td>-5.545926e+01</td>\n",
       "      <td>129.939774</td>\n",
       "      <td>-29.616024</td>\n",
       "      <td>129.939774</td>\n",
       "      <td>-19.945639</td>\n",
       "      <td>89.974266</td>\n",
       "      <td>-55.459255</td>\n",
       "      <td>10.666189</td>\n",
       "      <td>-27.167757</td>\n",
       "      <td>43.293716</td>\n",
       "    </tr>\n",
       "    <tr>\n",
       "      <th>5</th>\n",
       "      <td>PVTO_seq16_tar16_X.npy</td>\n",
       "      <td>(69435, 16, 63)</td>\n",
       "      <td>-4.666577e+06</td>\n",
       "      <td>129.945679</td>\n",
       "      <td>-29.616024</td>\n",
       "      <td>129.945679</td>\n",
       "      <td>-19.952444</td>\n",
       "      <td>89.974266</td>\n",
       "      <td>-59.726681</td>\n",
       "      <td>24.223558</td>\n",
       "      <td>-27.167757</td>\n",
       "      <td>44.986813</td>\n",
       "    </tr>\n",
       "    <tr>\n",
       "      <th>6</th>\n",
       "      <td>PVTO_seq64_tar64_y.npy</td>\n",
       "      <td>(40904, 64, 63)</td>\n",
       "      <td>-4.666577e+06</td>\n",
       "      <td>129.964691</td>\n",
       "      <td>-29.653769</td>\n",
       "      <td>129.964691</td>\n",
       "      <td>-18.887793</td>\n",
       "      <td>89.974266</td>\n",
       "      <td>-55.459255</td>\n",
       "      <td>13.723037</td>\n",
       "      <td>-27.167757</td>\n",
       "      <td>16.384754</td>\n",
       "    </tr>\n",
       "    <tr>\n",
       "      <th>7</th>\n",
       "      <td>PVTO_seq48_tar48_y.npy</td>\n",
       "      <td>(49183, 48, 63)</td>\n",
       "      <td>-4.666577e+06</td>\n",
       "      <td>129.964691</td>\n",
       "      <td>-29.653769</td>\n",
       "      <td>129.964691</td>\n",
       "      <td>-19.986343</td>\n",
       "      <td>89.974266</td>\n",
       "      <td>-55.459255</td>\n",
       "      <td>58.255981</td>\n",
       "      <td>-27.167757</td>\n",
       "      <td>43.293716</td>\n",
       "    </tr>\n",
       "    <tr>\n",
       "      <th>8</th>\n",
       "      <td>PVTO_seq16_tar16_y.npy</td>\n",
       "      <td>(69435, 16, 63)</td>\n",
       "      <td>-4.666577e+06</td>\n",
       "      <td>129.964691</td>\n",
       "      <td>-29.653769</td>\n",
       "      <td>129.964691</td>\n",
       "      <td>-19.995951</td>\n",
       "      <td>89.974266</td>\n",
       "      <td>-59.726681</td>\n",
       "      <td>58.255981</td>\n",
       "      <td>-27.167757</td>\n",
       "      <td>44.986813</td>\n",
       "    </tr>\n",
       "    <tr>\n",
       "      <th>9</th>\n",
       "      <td>PVTO_seq64_tar64_X.npy</td>\n",
       "      <td>(40904, 64, 63)</td>\n",
       "      <td>-4.666577e+06</td>\n",
       "      <td>129.939774</td>\n",
       "      <td>-29.616024</td>\n",
       "      <td>129.939774</td>\n",
       "      <td>-18.236652</td>\n",
       "      <td>89.974266</td>\n",
       "      <td>-55.459255</td>\n",
       "      <td>10.195284</td>\n",
       "      <td>-27.167757</td>\n",
       "      <td>6.738795</td>\n",
       "    </tr>\n",
       "  </tbody>\n",
       "</table>\n",
       "</div>"
      ],
      "text/plain": [
       "                        f            shape           min         max  \\\n",
       "0  PVTO_seq48_tar48_X.npy  (49183, 48, 63) -4.666577e+06  129.939774   \n",
       "1  PVTO_seq32_tar32_y.npy  (58181, 32, 63) -5.708128e+01  129.964691   \n",
       "2  PVTO_seq24_tar24_X.npy  (63762, 24, 63) -4.666577e+06  129.939774   \n",
       "3  PVTO_seq24_tar24_y.npy  (63762, 24, 63) -4.666577e+06  129.964691   \n",
       "4  PVTO_seq32_tar32_X.npy  (58181, 32, 63) -5.545926e+01  129.939774   \n",
       "5  PVTO_seq16_tar16_X.npy  (69435, 16, 63) -4.666577e+06  129.945679   \n",
       "6  PVTO_seq64_tar64_y.npy  (40904, 64, 63) -4.666577e+06  129.964691   \n",
       "7  PVTO_seq48_tar48_y.npy  (49183, 48, 63) -4.666577e+06  129.964691   \n",
       "8  PVTO_seq16_tar16_y.npy  (69435, 16, 63) -4.666577e+06  129.964691   \n",
       "9  PVTO_seq64_tar64_X.npy  (40904, 64, 63) -4.666577e+06  129.939774   \n",
       "\n",
       "       x_min       x_max      y_min      y_max     vx_min     vx_max  \\\n",
       "0 -29.616024  129.939774 -19.945639  89.974266 -55.459255  10.666189   \n",
       "1 -29.653769  129.964691 -19.986343  89.974266 -55.459255  58.255981   \n",
       "2 -29.616024  129.939774 -19.952444  89.974266 -55.459255  24.223558   \n",
       "3 -29.653769  129.964691 -19.995951  89.974266 -55.459255  58.255981   \n",
       "4 -29.616024  129.939774 -19.945639  89.974266 -55.459255  10.666189   \n",
       "5 -29.616024  129.945679 -19.952444  89.974266 -59.726681  24.223558   \n",
       "6 -29.653769  129.964691 -18.887793  89.974266 -55.459255  13.723037   \n",
       "7 -29.653769  129.964691 -19.986343  89.974266 -55.459255  58.255981   \n",
       "8 -29.653769  129.964691 -19.995951  89.974266 -59.726681  58.255981   \n",
       "9 -29.616024  129.939774 -18.236652  89.974266 -55.459255  10.195284   \n",
       "\n",
       "      vy_min     vy_max  \n",
       "0 -27.167757  43.293716  \n",
       "1 -27.167757  43.293716  \n",
       "2 -27.167757  43.293716  \n",
       "3 -27.167757  43.293716  \n",
       "4 -27.167757  43.293716  \n",
       "5 -27.167757  44.986813  \n",
       "6 -27.167757  16.384754  \n",
       "7 -27.167757  43.293716  \n",
       "8 -27.167757  44.986813  \n",
       "9 -27.167757   6.738795  "
      ]
     },
     "execution_count": 17,
     "metadata": {},
     "output_type": "execute_result"
    }
   ],
   "source": [
    "x_coords = [False]*3 + [i %4 == 3 for i in range(3, 63)]\n",
    "y_coords = [False]*3 + [i %4 == 0 for i in range(3, 63)]\n",
    "vx_coords = [False]*3 + [i %4 == 1 for i in range(3, 63)]\n",
    "vy_coords = [False]*3 + [i %4 == 2 for i in range(3, 63)]\n",
    "stats = []\n",
    "for f in os.listdir(args.root_path):\n",
    "    print(f)\n",
    "    tmp = np.load(os.path.join(args.root_path, f))\n",
    "    x_min, x_max, y_min, y_max = tmp[:,:,x_coords].min(), tmp[:,:,x_coords].max(), tmp[:,:,y_coords].min(), tmp[:,:,y_coords].max()\n",
    "    vx_min, vx_max, vy_min, vy_max = tmp[:,:,vx_coords].min(), tmp[:,:,vx_coords].max(), tmp[:,:,vy_coords].min(), tmp[:,:,vy_coords].max()\n",
    "    g_min, g_max = tmp[:,:,1:].min(), tmp[:,:,1:].max()\n",
    "    stats.append({'f':f, 'shape':tmp.shape, 'min':g_min, 'max':g_max, \n",
    "                  'x_min':x_min, 'x_max':x_max, 'y_min':y_min, 'y_max':y_max, \n",
    "                  'vx_min':vx_min, 'vx_max':vx_max, 'vy_min':vy_min, 'vy_max':vy_max})\n",
    "pd.DataFrame(stats)"
   ]
  },
  {
   "cell_type": "code",
   "execution_count": 16,
   "metadata": {},
   "outputs": [
    {
     "name": "stdout",
     "output_type": "stream",
     "text": [
      "Shape step 1 : torch.Size([1, 48, 32]) - input\n",
      "Shape step 2 : torch.Size([1, 48, 256]) - post LSTM\n",
      "Shape step 3 : torch.Size([1, 48, 512]) - post projection\n",
      "Shape step 4 : torch.Size([1, 48, 512]) - post Transformer\n",
      "Shape step 5 : torch.Size([1, 48, 256]) - post Linear\n",
      "Shape step 6 : torch.Size([1, 48, 192]) - post output layer\n",
      "Shape step 7 : torch.Size([1, 192, 32]) - post permute & truncate\n",
      "Model quick summary\n",
      "=======================================================================================\n",
      "Layer name                    |          Nb units|      Nb tr params|  Nb non tr params\n",
      "LSTM_0                        |               256|           296 960|                 0\n",
      "Linear_0                      |               256|             8 448|                 0\n",
      "LayerNorm_0                   |                 -|               512|                 0\n",
      "Linear_1                      |               512|           131 584|                 0\n",
      "TransformerEncoderLayer_0     |               512|         3 152 384|                 0\n",
      "TransformerEncoderLayer_1     |               512|         3 152 384|                 0\n",
      "Linear_2                      |               256|           131 328|                 0\n",
      "LayerNorm_1                   |                 -|               512|                 0\n",
      "Linear_3                      |               256|            65 792|                 0\n",
      "LayerNorm_2                   |                 -|               512|                 0\n",
      "Linear_4                      |               192|            49 344|                 0\n",
      "=======================================================================================\n",
      "Skip_connections : True\n",
      "Transformer_nb_heads : 8\n",
      "Transformer_FF_units : 2048\n",
      "Dropout_rate : p = 0.25\n",
      "\n",
      "Nb trainable parameters : 6 989 760\n",
      "Nb non-trainable parameters : 0\n",
      "Total nb parameters : 6 989 760\n",
      "\n",
      "Dummy input shape : torch.Size([1, 48, 32]) | dummy output shape : torch.Size([1, 192, 32])\n"
     ]
    }
   ],
   "source": [
    "from models.LSTransformer import Model\n",
    "from utils.model_wrapper import ModelWrapper\n",
    "model = ModelWrapper(Model(configs=args), args)\n",
    "model.summary()"
   ]
  }
 ],
 "metadata": {
  "kernelspec": {
   "display_name": "tsl_env",
   "language": "python",
   "name": "python3"
  },
  "language_info": {
   "codemirror_mode": {
    "name": "ipython",
    "version": 3
   },
   "file_extension": ".py",
   "mimetype": "text/x-python",
   "name": "python",
   "nbconvert_exporter": "python",
   "pygments_lexer": "ipython3",
   "version": "3.10.6"
  }
 },
 "nbformat": 4,
 "nbformat_minor": 2
}
