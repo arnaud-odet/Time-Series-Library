{
 "cells": [
  {
   "cell_type": "code",
   "execution_count": 28,
   "metadata": {},
   "outputs": [],
   "source": [
    "import os \n",
    "import numpy as np\n",
    "import pandas as pd\n",
    "import torch\n",
    "import math\n",
    "import matplotlib.pyplot as plt\n",
    "import seaborn as sns\n",
    "\n",
    "from data_provider.data_factory import data_provider\n",
    "%reload_ext autoreload\n",
    "%autoreload 2"
   ]
  },
  {
   "cell_type": "code",
   "execution_count": 10,
   "metadata": {},
   "outputs": [],
   "source": [
    "lt_logs_df = pd.read_csv('./logs/calmip_logs.csv', index_col = 0)\n",
    "from types import SimpleNamespace\n",
    "usc_args = SimpleNamespace(**lt_logs_df.loc[471].to_dict())\n",
    "usc_args.batch_size = 25\n",
    "\n",
    "usc_args.input_features = 'A'\n",
    "usc_args.use_offense = False\n",
    "usc_args.seq_len = 24\n",
    "usc_args.pred_len = 24\n",
    "usc_args.features = 'MS'\n",
    "usc_args.consider_only_offense = True\n",
    "\n",
    "usc_args.root_path = \"./dataset/USC/\"\n",
    "usc_args.checkpoints = \"./checkpoints/\"\n",
    "usc_args.results_path = \"./results/\""
   ]
  },
  {
   "cell_type": "code",
   "execution_count": 13,
   "metadata": {},
   "outputs": [
    {
     "name": "stdout",
     "output_type": "stream",
     "text": [
      "train 62446\n"
     ]
    },
    {
     "data": {
      "text/plain": [
       "True"
      ]
     },
     "execution_count": 13,
     "metadata": {},
     "output_type": "execute_result"
    }
   ],
   "source": [
    "uscds_tr, uscdl_tr = data_provider(args= usc_args, flag = 'train')\n",
    "uscds_tr.scale"
   ]
  },
  {
   "cell_type": "code",
   "execution_count": 14,
   "metadata": {},
   "outputs": [
    {
     "name": "stdout",
     "output_type": "stream",
     "text": [
      "test 13382\n"
     ]
    },
    {
     "data": {
      "text/plain": [
       "True"
      ]
     },
     "execution_count": 14,
     "metadata": {},
     "output_type": "execute_result"
    }
   ],
   "source": [
    "uscds_te, uscdl_te = data_provider(args= usc_args, flag = 'test')\n",
    "uscds_te.scale"
   ]
  },
  {
   "cell_type": "code",
   "execution_count": 27,
   "metadata": {},
   "outputs": [
    {
     "name": "stdout",
     "output_type": "stream",
     "text": [
      "(62446, 24, 1)\n"
     ]
    },
    {
     "data": {
      "text/plain": [
       "array([ 1.3646619,  1.284041 ,  1.2648414, ..., -1.5220808, -1.5651474,\n",
       "       -1.5761852], dtype=float32)"
      ]
     },
     "execution_count": 27,
     "metadata": {},
     "output_type": "execute_result"
    }
   ],
   "source": [
    "print(uscds_tr.data_y.shape)\n",
    "uscds_tr.data_y[:,-1,0]"
   ]
  },
  {
   "cell_type": "code",
   "execution_count": 26,
   "metadata": {},
   "outputs": [
    {
     "name": "stdout",
     "output_type": "stream",
     "text": [
      "(13382, 24, 1)\n"
     ]
    },
    {
     "data": {
      "text/plain": [
       "array([ 0.22422034,  0.2496033 ,  0.26992837, ..., -0.39535883,\n",
       "       -0.42563042, -0.45257106], dtype=float32)"
      ]
     },
     "execution_count": 26,
     "metadata": {},
     "output_type": "execute_result"
    }
   ],
   "source": [
    "print(uscds_te.data_y.shape)\n",
    "uscds_te.data_y[:,-1,0]"
   ]
  },
  {
   "cell_type": "code",
   "execution_count": 48,
   "metadata": {},
   "outputs": [
    {
     "data": {
      "text/plain": [
       "False"
      ]
     },
     "execution_count": 48,
     "metadata": {},
     "output_type": "execute_result"
    }
   ],
   "source": [
    "usc_args.use_action_progress"
   ]
  },
  {
   "cell_type": "code",
   "execution_count": 89,
   "metadata": {},
   "outputs": [
    {
     "name": "stdout",
     "output_type": "stream",
     "text": [
      "(89210, 24, 63)\n",
      "89210\n"
     ]
    },
    {
     "data": {
      "text/plain": [
       "array([ 1.  ,  0.16,  1.  , 21.04, 48.15,  1.39,  1.39, 22.1 , 47.86,\n",
       "        3.65,  3.44, 22.64, 40.35,  3.74,  3.57, 22.81, 51.81,  1.8 ,\n",
       "        1.76, 19.55, 38.29,  3.93,  3.92, 21.81, 54.32,  1.54,  1.21,\n",
       "       15.63, 29.62,  2.66,  2.62, 22.6 , 52.54,  1.69,  1.48, 21.  ,\n",
       "       49.44,  2.51,  1.91, 16.86, 49.73,  1.35, -1.27, 17.29, 67.25,\n",
       "        0.72,  0.36, 24.46, 51.82,  1.23,  0.7 , 20.02, 35.38,  3.11,\n",
       "       -0.9 , 10.07, 17.27,  1.6 ,  1.36, 11.98, 40.06,  1.17,  0.13],\n",
       "      dtype=float32)"
      ]
     },
     "execution_count": 89,
     "metadata": {},
     "output_type": "execute_result"
    }
   ],
   "source": [
    "Y_tr_true = np.load('./dataset/USC/seq24_pred24_Y.npy')\n",
    "print(Y_tr_true.shape)\n",
    "print(uscds_tr.data_y.shape[0] + 2*uscds_te.data_y.shape[0] )\n",
    "np.round(Y_tr_true[0,0,:],2)"
   ]
  },
  {
   "cell_type": "code",
   "execution_count": 90,
   "metadata": {},
   "outputs": [
    {
     "data": {
      "text/plain": [
       "array([-0.38755843,  3.178949  ,  3.9451783 , -0.01748937,  4.793165  ,\n",
       "        2.7150667 ,  2.966743  ,  0.        ,  0.8675097 ,  0.12131345,\n",
       "        0.8320691 , -0.06128666, -0.6361876 ,  0.41080967,  0.18339096],\n",
       "      dtype=float32)"
      ]
     },
     "execution_count": 90,
     "metadata": {},
     "output_type": "execute_result"
    }
   ],
   "source": [
    "angle_mask = [(i+2)%4 == 0 and i >2 for i in range(Y_tr_true.shape[2])]\n",
    "Y_tr_true[0,-1,angle_mask]"
   ]
  },
  {
   "cell_type": "code",
   "execution_count": 65,
   "metadata": {},
   "outputs": [
    {
     "data": {
      "text/html": [
       "<div>\n",
       "<style scoped>\n",
       "    .dataframe tbody tr th:only-of-type {\n",
       "        vertical-align: middle;\n",
       "    }\n",
       "\n",
       "    .dataframe tbody tr th {\n",
       "        vertical-align: top;\n",
       "    }\n",
       "\n",
       "    .dataframe thead th {\n",
       "        text-align: right;\n",
       "    }\n",
       "</style>\n",
       "<table border=\"1\" class=\"dataframe\">\n",
       "  <thead>\n",
       "    <tr style=\"text-align: right;\">\n",
       "      <th></th>\n",
       "      <th>frame</th>\n",
       "      <th>player_id</th>\n",
       "      <th>x</th>\n",
       "      <th>y</th>\n",
       "      <th>action</th>\n",
       "      <th>half</th>\n",
       "      <th>offense</th>\n",
       "      <th>player</th>\n",
       "      <th>v_x</th>\n",
       "      <th>v_y</th>\n",
       "      <th>v</th>\n",
       "      <th>uv_x</th>\n",
       "      <th>uv_y</th>\n",
       "      <th>goal_angle</th>\n",
       "      <th>target</th>\n",
       "      <th>act_progression</th>\n",
       "      <th>game_id</th>\n",
       "      <th>action_id</th>\n",
       "    </tr>\n",
       "  </thead>\n",
       "  <tbody>\n",
       "    <tr>\n",
       "      <th>0</th>\n",
       "      <td>2023-08-25 19:31:27.400</td>\n",
       "      <td>JEAN THOMAS</td>\n",
       "      <td>22.233002</td>\n",
       "      <td>55.553402</td>\n",
       "      <td>1</td>\n",
       "      <td>1</td>\n",
       "      <td>True</td>\n",
       "      <td>4</td>\n",
       "      <td>NaN</td>\n",
       "      <td>NaN</td>\n",
       "      <td>NaN</td>\n",
       "      <td>NaN</td>\n",
       "      <td>NaN</td>\n",
       "      <td>NaN</td>\n",
       "      <td>14.170314</td>\n",
       "      <td>0.000000</td>\n",
       "      <td>2324_02</td>\n",
       "      <td>1</td>\n",
       "    </tr>\n",
       "    <tr>\n",
       "      <th>1</th>\n",
       "      <td>2023-08-25 19:31:27.400</td>\n",
       "      <td>JACK WHETTON</td>\n",
       "      <td>22.483604</td>\n",
       "      <td>30.255229</td>\n",
       "      <td>1</td>\n",
       "      <td>1</td>\n",
       "      <td>True</td>\n",
       "      <td>5</td>\n",
       "      <td>NaN</td>\n",
       "      <td>NaN</td>\n",
       "      <td>NaN</td>\n",
       "      <td>NaN</td>\n",
       "      <td>NaN</td>\n",
       "      <td>NaN</td>\n",
       "      <td>14.170314</td>\n",
       "      <td>0.000000</td>\n",
       "      <td>2324_02</td>\n",
       "      <td>1</td>\n",
       "    </tr>\n",
       "    <tr>\n",
       "      <th>2</th>\n",
       "      <td>2023-08-25 19:31:27.400</td>\n",
       "      <td>GUILLAUME TARTAS</td>\n",
       "      <td>23.177224</td>\n",
       "      <td>53.527926</td>\n",
       "      <td>1</td>\n",
       "      <td>1</td>\n",
       "      <td>True</td>\n",
       "      <td>1</td>\n",
       "      <td>NaN</td>\n",
       "      <td>NaN</td>\n",
       "      <td>NaN</td>\n",
       "      <td>NaN</td>\n",
       "      <td>NaN</td>\n",
       "      <td>NaN</td>\n",
       "      <td>14.170314</td>\n",
       "      <td>0.000000</td>\n",
       "      <td>2324_02</td>\n",
       "      <td>1</td>\n",
       "    </tr>\n",
       "    <tr>\n",
       "      <th>3</th>\n",
       "      <td>2023-08-25 19:31:27.400</td>\n",
       "      <td>DORIAN LABORDE</td>\n",
       "      <td>27.876374</td>\n",
       "      <td>51.659946</td>\n",
       "      <td>1</td>\n",
       "      <td>1</td>\n",
       "      <td>True</td>\n",
       "      <td>12</td>\n",
       "      <td>NaN</td>\n",
       "      <td>NaN</td>\n",
       "      <td>NaN</td>\n",
       "      <td>NaN</td>\n",
       "      <td>NaN</td>\n",
       "      <td>NaN</td>\n",
       "      <td>14.170314</td>\n",
       "      <td>0.000000</td>\n",
       "      <td>2324_02</td>\n",
       "      <td>1</td>\n",
       "    </tr>\n",
       "    <tr>\n",
       "      <th>4</th>\n",
       "      <td>2023-08-25 19:31:27.400</td>\n",
       "      <td>FABIEN PERRIN</td>\n",
       "      <td>25.649343</td>\n",
       "      <td>34.601532</td>\n",
       "      <td>1</td>\n",
       "      <td>1</td>\n",
       "      <td>True</td>\n",
       "      <td>13</td>\n",
       "      <td>NaN</td>\n",
       "      <td>NaN</td>\n",
       "      <td>NaN</td>\n",
       "      <td>NaN</td>\n",
       "      <td>NaN</td>\n",
       "      <td>NaN</td>\n",
       "      <td>14.170314</td>\n",
       "      <td>0.000000</td>\n",
       "      <td>2324_02</td>\n",
       "      <td>1</td>\n",
       "    </tr>\n",
       "    <tr>\n",
       "      <th>...</th>\n",
       "      <td>...</td>\n",
       "      <td>...</td>\n",
       "      <td>...</td>\n",
       "      <td>...</td>\n",
       "      <td>...</td>\n",
       "      <td>...</td>\n",
       "      <td>...</td>\n",
       "      <td>...</td>\n",
       "      <td>...</td>\n",
       "      <td>...</td>\n",
       "      <td>...</td>\n",
       "      <td>...</td>\n",
       "      <td>...</td>\n",
       "      <td>...</td>\n",
       "      <td>...</td>\n",
       "      <td>...</td>\n",
       "      <td>...</td>\n",
       "      <td>...</td>\n",
       "    </tr>\n",
       "    <tr>\n",
       "      <th>188920</th>\n",
       "      <td>2025-03-07 20:57:24.100</td>\n",
       "      <td>BRETT HERRON</td>\n",
       "      <td>43.731861</td>\n",
       "      <td>37.777256</td>\n",
       "      <td>102</td>\n",
       "      <td>2</td>\n",
       "      <td>False</td>\n",
       "      <td>10</td>\n",
       "      <td>-0.403193</td>\n",
       "      <td>-0.092362</td>\n",
       "      <td>0.413636</td>\n",
       "      <td>-0.974751</td>\n",
       "      <td>-0.223292</td>\n",
       "      <td>-167.097511</td>\n",
       "      <td>58.473546</td>\n",
       "      <td>-0.754026</td>\n",
       "      <td>2425_23</td>\n",
       "      <td>41102</td>\n",
       "    </tr>\n",
       "    <tr>\n",
       "      <th>188921</th>\n",
       "      <td>2025-03-07 20:57:24.100</td>\n",
       "      <td>UGO PACOME</td>\n",
       "      <td>40.570186</td>\n",
       "      <td>18.138857</td>\n",
       "      <td>102</td>\n",
       "      <td>2</td>\n",
       "      <td>False</td>\n",
       "      <td>9</td>\n",
       "      <td>-0.895585</td>\n",
       "      <td>-0.447215</td>\n",
       "      <td>1.001037</td>\n",
       "      <td>-0.894658</td>\n",
       "      <td>-0.446752</td>\n",
       "      <td>-153.464500</td>\n",
       "      <td>58.473546</td>\n",
       "      <td>-0.754026</td>\n",
       "      <td>2425_23</td>\n",
       "      <td>41102</td>\n",
       "    </tr>\n",
       "    <tr>\n",
       "      <th>188922</th>\n",
       "      <td>2025-03-07 20:57:24.100</td>\n",
       "      <td>VINCENT PINTO</td>\n",
       "      <td>58.047428</td>\n",
       "      <td>29.359716</td>\n",
       "      <td>102</td>\n",
       "      <td>2</td>\n",
       "      <td>False</td>\n",
       "      <td>14</td>\n",
       "      <td>-1.398516</td>\n",
       "      <td>-0.497747</td>\n",
       "      <td>1.484453</td>\n",
       "      <td>-0.942109</td>\n",
       "      <td>-0.335307</td>\n",
       "      <td>-160.408795</td>\n",
       "      <td>58.473546</td>\n",
       "      <td>-0.754026</td>\n",
       "      <td>2425_23</td>\n",
       "      <td>41102</td>\n",
       "    </tr>\n",
       "    <tr>\n",
       "      <th>188923</th>\n",
       "      <td>2025-03-07 20:57:24.100</td>\n",
       "      <td>LOUIS DESCOUX</td>\n",
       "      <td>55.923958</td>\n",
       "      <td>28.504784</td>\n",
       "      <td>102</td>\n",
       "      <td>2</td>\n",
       "      <td>False</td>\n",
       "      <td>5</td>\n",
       "      <td>2.069783</td>\n",
       "      <td>-0.930800</td>\n",
       "      <td>2.269447</td>\n",
       "      <td>0.912021</td>\n",
       "      <td>-0.410144</td>\n",
       "      <td>-24.213872</td>\n",
       "      <td>58.473546</td>\n",
       "      <td>-0.754026</td>\n",
       "      <td>2425_23</td>\n",
       "      <td>41102</td>\n",
       "    </tr>\n",
       "    <tr>\n",
       "      <th>188924</th>\n",
       "      <td>2025-03-07 20:57:24.100</td>\n",
       "      <td>GUILLAUME TARTAS</td>\n",
       "      <td>56.695739</td>\n",
       "      <td>33.846873</td>\n",
       "      <td>102</td>\n",
       "      <td>2</td>\n",
       "      <td>False</td>\n",
       "      <td>1</td>\n",
       "      <td>0.257080</td>\n",
       "      <td>0.462229</td>\n",
       "      <td>0.528910</td>\n",
       "      <td>0.486056</td>\n",
       "      <td>0.873928</td>\n",
       "      <td>60.918340</td>\n",
       "      <td>58.473546</td>\n",
       "      <td>-0.754026</td>\n",
       "      <td>2425_23</td>\n",
       "      <td>41102</td>\n",
       "    </tr>\n",
       "  </tbody>\n",
       "</table>\n",
       "<p>7368510 rows × 18 columns</p>\n",
       "</div>"
      ],
      "text/plain": [
       "                          frame         player_id          x          y  \\\n",
       "0       2023-08-25 19:31:27.400       JEAN THOMAS  22.233002  55.553402   \n",
       "1       2023-08-25 19:31:27.400      JACK WHETTON  22.483604  30.255229   \n",
       "2       2023-08-25 19:31:27.400  GUILLAUME TARTAS  23.177224  53.527926   \n",
       "3       2023-08-25 19:31:27.400    DORIAN LABORDE  27.876374  51.659946   \n",
       "4       2023-08-25 19:31:27.400     FABIEN PERRIN  25.649343  34.601532   \n",
       "...                         ...               ...        ...        ...   \n",
       "188920  2025-03-07 20:57:24.100      BRETT HERRON  43.731861  37.777256   \n",
       "188921  2025-03-07 20:57:24.100        UGO PACOME  40.570186  18.138857   \n",
       "188922  2025-03-07 20:57:24.100     VINCENT PINTO  58.047428  29.359716   \n",
       "188923  2025-03-07 20:57:24.100     LOUIS DESCOUX  55.923958  28.504784   \n",
       "188924  2025-03-07 20:57:24.100  GUILLAUME TARTAS  56.695739  33.846873   \n",
       "\n",
       "        action  half  offense  player       v_x       v_y         v      uv_x  \\\n",
       "0            1     1     True       4       NaN       NaN       NaN       NaN   \n",
       "1            1     1     True       5       NaN       NaN       NaN       NaN   \n",
       "2            1     1     True       1       NaN       NaN       NaN       NaN   \n",
       "3            1     1     True      12       NaN       NaN       NaN       NaN   \n",
       "4            1     1     True      13       NaN       NaN       NaN       NaN   \n",
       "...        ...   ...      ...     ...       ...       ...       ...       ...   \n",
       "188920     102     2    False      10 -0.403193 -0.092362  0.413636 -0.974751   \n",
       "188921     102     2    False       9 -0.895585 -0.447215  1.001037 -0.894658   \n",
       "188922     102     2    False      14 -1.398516 -0.497747  1.484453 -0.942109   \n",
       "188923     102     2    False       5  2.069783 -0.930800  2.269447  0.912021   \n",
       "188924     102     2    False       1  0.257080  0.462229  0.528910  0.486056   \n",
       "\n",
       "            uv_y  goal_angle     target  act_progression  game_id  action_id  \n",
       "0            NaN         NaN  14.170314         0.000000  2324_02          1  \n",
       "1            NaN         NaN  14.170314         0.000000  2324_02          1  \n",
       "2            NaN         NaN  14.170314         0.000000  2324_02          1  \n",
       "3            NaN         NaN  14.170314         0.000000  2324_02          1  \n",
       "4            NaN         NaN  14.170314         0.000000  2324_02          1  \n",
       "...          ...         ...        ...              ...      ...        ...  \n",
       "188920 -0.223292 -167.097511  58.473546        -0.754026  2425_23      41102  \n",
       "188921 -0.446752 -153.464500  58.473546        -0.754026  2425_23      41102  \n",
       "188922 -0.335307 -160.408795  58.473546        -0.754026  2425_23      41102  \n",
       "188923 -0.410144  -24.213872  58.473546        -0.754026  2425_23      41102  \n",
       "188924  0.873928   60.918340  58.473546        -0.754026  2425_23      41102  \n",
       "\n",
       "[7368510 rows x 18 columns]"
      ]
     },
     "execution_count": 65,
     "metadata": {},
     "output_type": "execute_result"
    }
   ],
   "source": [
    "df = pd.read_csv('../Collective_behavior/preproc_data/USC/all_games_positions.csv',index_col = 0)\n",
    "df"
   ]
  },
  {
   "cell_type": "code",
   "execution_count": 66,
   "metadata": {},
   "outputs": [
    {
     "data": {
      "text/plain": [
       "(array([671693., 668418., 847268., 635131., 858987., 795167., 670873.,\n",
       "        866017., 654612., 659169.]),\n",
       " array([-1.79999803e+02, -1.43999829e+02, -1.07999856e+02, -7.19998823e+01,\n",
       "        -3.59999089e+01,  6.45568576e-05,  3.60000380e+01,  7.20000114e+01,\n",
       "         1.07999985e+02,  1.43999958e+02,  1.79999932e+02]),\n",
       " <BarContainer object of 10 artists>)"
      ]
     },
     "execution_count": 66,
     "metadata": {},
     "output_type": "execute_result"
    },
    {
     "data": {
      "image/png": "[encoded data removed]",
      "text/plain": [
       "<Figure size 640x480 with 1 Axes>"
      ]
     },
     "metadata": {},
     "output_type": "display_data"
    }
   ],
   "source": [
    "plt.hist(df['goal_angle'])"
   ]
  },
  {
   "cell_type": "code",
   "execution_count": 103,
   "metadata": {},
   "outputs": [
    {
     "name": "stdout",
     "output_type": "stream",
     "text": [
      "(80037, 32, 63) (80037, 32, 63)\n"
     ]
    },
    {
     "data": {
      "image/png": "[encoded data removed]",
      "text/plain": [
       "<Figure size 1200x500 with 2 Axes>"
      ]
     },
     "metadata": {},
     "output_type": "display_data"
    }
   ],
   "source": [
    "th = 32\n",
    "Xs = np.load(f'./dataset/USC/seq{th}_pred{th}_X.npy')\n",
    "Ys = np.load(f'./dataset/USC/seq{th}_pred{th}_Y.npy')\n",
    "print(Xs.shape, Ys.shape)\n",
    "angle_mask = [(i+2)%4 == 0 and i >2 for i in range(Y_tr_true.shape[2])]\n",
    "\n",
    "fig, axs = plt.subplots(1,2,figsize = (12,5));\n",
    "axs[0].hist(Xs[:,:,angle_mask].reshape(-1));\n",
    "axs[1].hist(Ys[:,:,angle_mask].reshape(-1));\n"
   ]
  },
  {
   "cell_type": "code",
   "execution_count": 76,
   "metadata": {},
   "outputs": [
    {
     "data": {
      "text/plain": [
       "(array([1876529., 2105480., 2538330., 2108620., 2689501., 2511907.,\n",
       "        2236259., 2575857., 1985295., 1852782.]),\n",
       " array([-9.99998927e-01, -7.99999058e-01, -5.99999189e-01, -3.99999350e-01,\n",
       "        -1.99999496e-01,  3.57627869e-07,  2.00000212e-01,  4.00000066e-01,\n",
       "         5.99999905e-01,  7.99999774e-01,  9.99999642e-01]),\n",
       " <BarContainer object of 10 artists>)"
      ]
     },
     "execution_count": 76,
     "metadata": {},
     "output_type": "execute_result"
    },
    {
     "data": {
      "image/png": "[encoded data removed]",
      "text/plain": [
       "<Figure size 640x480 with 1 Axes>"
      ]
     },
     "metadata": {},
     "output_type": "display_data"
    }
   ],
   "source": [
    "angle_mask_2 = [(i+4)%4 == 0 and i >2 for i in range(uscds_tr.data_x.shape[2])]\n",
    "\n",
    "plt.hist(uscds_tr.data_x[:,:,angle_mask_2].reshape(-1))"
   ]
  },
  {
   "cell_type": "code",
   "execution_count": 69,
   "metadata": {},
   "outputs": [
    {
     "data": {
      "text/plain": [
       "(-11.404583, 11.782818)"
      ]
     },
     "execution_count": 69,
     "metadata": {},
     "output_type": "execute_result"
    }
   ],
   "source": [
    "Y_tr_true[:,:,angle_mask].reshape(-1).min(), Y_tr_true[:,:,angle_mask].reshape(-1).max()"
   ]
  },
  {
   "cell_type": "code",
   "execution_count": 62,
   "metadata": {},
   "outputs": [
    {
     "data": {
      "text/plain": [
       "(array([2.5900000e+02, 5.1950000e+03, 2.4364500e+05, 2.5099120e+06,\n",
       "        1.6288870e+07, 1.0832669e+07, 2.0867010e+06, 1.4679800e+05,\n",
       "        1.4860000e+03, 6.5000000e+01]),\n",
       " array([-11.40458298,  -9.08584309,  -6.76710272,  -4.44836283,\n",
       "         -2.1296227 ,   0.18911743,   2.50785756,   4.82659769,\n",
       "          7.14533758,   9.46407795,  11.78281784]),\n",
       " <BarContainer object of 10 artists>)"
      ]
     },
     "execution_count": 62,
     "metadata": {},
     "output_type": "execute_result"
    },
    {
     "data": {
      "image/png": "[encoded data removed]",
      "text/plain": [
       "<Figure size 640x480 with 1 Axes>"
      ]
     },
     "metadata": {},
     "output_type": "display_data"
    }
   ],
   "source": [
    "plt.hist(Y_tr_true[:,:,angle_mask].reshape(-1))"
   ]
  },
  {
   "cell_type": "code",
   "execution_count": 55,
   "metadata": {},
   "outputs": [
    {
     "name": "stdout",
     "output_type": "stream",
     "text": [
      "0.37961665\n"
     ]
    },
    {
     "data": {
      "text/plain": [
       "(-0.31447268, -0.31447268)"
      ]
     },
     "execution_count": 55,
     "metadata": {},
     "output_type": "execute_result"
    }
   ],
   "source": [
    "print(Y_tr_true[:uscds_tr.__len__(), :, 1].reshape(-1).mean())\n",
    "uscds_tr.scaler['mean'][0], uscds_te.scaler['mean'][0]"
   ]
  },
  {
   "cell_type": "code",
   "execution_count": 39,
   "metadata": {},
   "outputs": [
    {
     "name": "stdout",
     "output_type": "stream",
     "text": [
      "600\n"
     ]
    }
   ],
   "source": [
    "x, y_true , _, _= next(iter(uscdl_te))\n",
    "y_true = y_true [:,-uscds_te.args.pred_len:,:]\n",
    "\n",
    "y_true_shape = y_true.shape\n",
    "test_it = uscds_te.inverse_transform(y_true.reshape(y_true_shape[0] * y_true_shape[1], -1)).reshape(y_true_shape)"
   ]
  },
  {
   "cell_type": "code",
   "execution_count": 84,
   "metadata": {},
   "outputs": [
    {
     "data": {
      "text/plain": [
       "torch.Size([25, 24, 1])"
      ]
     },
     "execution_count": 84,
     "metadata": {},
     "output_type": "execute_result"
    }
   ],
   "source": [
    "y_true[:,:,0:].shape"
   ]
  },
  {
   "cell_type": "code",
   "execution_count": 41,
   "metadata": {},
   "outputs": [
    {
     "data": {
      "text/plain": [
       "torch.Size([25, 24, 1])"
      ]
     },
     "execution_count": 41,
     "metadata": {},
     "output_type": "execute_result"
    }
   ],
   "source": [
    "test_it.shape"
   ]
  },
  {
   "cell_type": "code",
   "execution_count": 51,
   "metadata": {},
   "outputs": [
    {
     "data": {
      "text/plain": [
       "61"
      ]
     },
     "execution_count": 51,
     "metadata": {},
     "output_type": "execute_result"
    }
   ],
   "source": [
    "len(uscds_tr.scaler['mean'])"
   ]
  },
  {
   "cell_type": "code",
   "execution_count": 34,
   "metadata": {},
   "outputs": [
    {
     "data": {
      "text/plain": [
       "{'mean': [-0.31447268,\n",
       "  50,\n",
       "  35,\n",
       "  1.6205294,\n",
       "  0,\n",
       "  50,\n",
       "  35,\n",
       "  1.6523768,\n",
       "  0,\n",
       "  50,\n",
       "  35,\n",
       "  1.6473053,\n",
       "  0,\n",
       "  50,\n",
       "  35,\n",
       "  1.7604458,\n",
       "  0,\n",
       "  50,\n",
       "  35,\n",
       "  1.7135544,\n",
       "  0,\n",
       "  50,\n",
       "  35,\n",
       "  1.6821164,\n",
       "  0,\n",
       "  50,\n",
       "  35,\n",
       "  1.563787,\n",
       "  0,\n",
       "  50,\n",
       "  35,\n",
       "  1.6497974,\n",
       "  0,\n",
       "  50,\n",
       "  35,\n",
       "  2.2787786,\n",
       "  0,\n",
       "  50,\n",
       "  35,\n",
       "  1.8954127,\n",
       "  0,\n",
       "  50,\n",
       "  35,\n",
       "  1.7134509,\n",
       "  0,\n",
       "  50,\n",
       "  35,\n",
       "  1.8009133,\n",
       "  0,\n",
       "  50,\n",
       "  35,\n",
       "  1.8541431,\n",
       "  0,\n",
       "  50,\n",
       "  35,\n",
       "  1.7068683,\n",
       "  0,\n",
       "  50,\n",
       "  35,\n",
       "  1.8884925,\n",
       "  0],\n",
       " 'scale': [1.9331441,\n",
       "  50,\n",
       "  50,\n",
       "  1.2340605,\n",
       "  180,\n",
       "  50,\n",
       "  50,\n",
       "  1.306971,\n",
       "  180,\n",
       "  50,\n",
       "  50,\n",
       "  1.2039827,\n",
       "  180,\n",
       "  50,\n",
       "  50,\n",
       "  1.3017693,\n",
       "  180,\n",
       "  50,\n",
       "  50,\n",
       "  1.2484413,\n",
       "  180,\n",
       "  50,\n",
       "  50,\n",
       "  1.3771782,\n",
       "  180,\n",
       "  50,\n",
       "  50,\n",
       "  1.2901967,\n",
       "  180,\n",
       "  50,\n",
       "  50,\n",
       "  1.3225322,\n",
       "  180,\n",
       "  50,\n",
       "  50,\n",
       "  1.5816572,\n",
       "  180,\n",
       "  50,\n",
       "  50,\n",
       "  1.3772091,\n",
       "  180,\n",
       "  50,\n",
       "  50,\n",
       "  1.4911642,\n",
       "  180,\n",
       "  50,\n",
       "  50,\n",
       "  1.3764751,\n",
       "  180,\n",
       "  50,\n",
       "  50,\n",
       "  1.4314095,\n",
       "  180,\n",
       "  50,\n",
       "  50,\n",
       "  1.4299009,\n",
       "  180,\n",
       "  50,\n",
       "  50,\n",
       "  1.5071014,\n",
       "  180],\n",
       " 'offset_x': 0,\n",
       " 'offset_y': 0,\n",
       " 'x_size': 36600,\n",
       " 'y_size': 600}"
      ]
     },
     "execution_count": 34,
     "metadata": {},
     "output_type": "execute_result"
    }
   ],
   "source": [
    "uscds_te.scaler"
   ]
  }
 ],
 "metadata": {
  "kernelspec": {
   "display_name": "tsl_env",
   "language": "python",
   "name": "python3"
  },
  "language_info": {
   "codemirror_mode": {
    "name": "ipython",
    "version": 3
   },
   "file_extension": ".py",
   "mimetype": "text/x-python",
   "name": "python",
   "nbconvert_exporter": "python",
   "pygments_lexer": "ipython3",
   "version": "3.10.6"
  }
 },
 "nbformat": 4,
 "nbformat_minor": 2
}
