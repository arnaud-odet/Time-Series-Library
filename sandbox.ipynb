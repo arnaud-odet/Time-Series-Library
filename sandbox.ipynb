{
 "cells": [
  {
   "cell_type": "code",
   "execution_count": 1,
   "metadata": {},
   "outputs": [],
   "source": [
    "import os \n",
    "import numpy as np\n",
    "import pandas as pd\n",
    "%reload_ext autoreload\n",
    "%autoreload 2"
   ]
  },
  {
   "cell_type": "code",
   "execution_count": 2,
   "metadata": {},
   "outputs": [],
   "source": [
    "lt_logs_df = pd.read_csv('./logs/long_term_forecast.csv', index_col = 0)\n",
    "from types import SimpleNamespace\n",
    "args = SimpleNamespace(**lt_logs_df.loc[21].to_dict())"
   ]
  },
  {
   "cell_type": "markdown",
   "metadata": {},
   "source": [
    "### ETT"
   ]
  },
  {
   "cell_type": "code",
   "execution_count": 3,
   "metadata": {},
   "outputs": [
    {
     "name": "stdout",
     "output_type": "stream",
     "text": [
      "train 34273\n"
     ]
    }
   ],
   "source": [
    "from data_provider.data_loader import Dataset_ETT_minute\n",
    "from data_provider.data_factory import data_provider\n",
    "\n",
    "ettds, ettdl = data_provider(args = args, flag = 'train')"
   ]
  },
  {
   "cell_type": "code",
   "execution_count": 4,
   "metadata": {},
   "outputs": [
    {
     "data": {
      "text/plain": [
       "(34560, 7)"
      ]
     },
     "execution_count": 4,
     "metadata": {},
     "output_type": "execute_result"
    }
   ],
   "source": [
    "ettds.data_x.shape"
   ]
  },
  {
   "cell_type": "code",
   "execution_count": 5,
   "metadata": {},
   "outputs": [
    {
     "data": {
      "text/plain": [
       "(34273, 536, 64)"
      ]
     },
     "execution_count": 5,
     "metadata": {},
     "output_type": "execute_result"
    }
   ],
   "source": [
    "ettds.__len__(), ettdl.__len__(), ettdl.batch_size"
   ]
  },
  {
   "cell_type": "code",
   "execution_count": 6,
   "metadata": {},
   "outputs": [
    {
     "name": "stdout",
     "output_type": "stream",
     "text": [
      "4\n"
     ]
    },
    {
     "data": {
      "text/plain": [
       "(96, 7)"
      ]
     },
     "execution_count": 6,
     "metadata": {},
     "output_type": "execute_result"
    }
   ],
   "source": [
    "print(len(ettds.__getitem__(0)))\n",
    "ettds.__getitem__(0)[0].shape"
   ]
  },
  {
   "cell_type": "markdown",
   "metadata": {},
   "source": [
    "### USC"
   ]
  },
  {
   "cell_type": "code",
   "execution_count": 13,
   "metadata": {},
   "outputs": [
    {
     "name": "stdout",
     "output_type": "stream",
     "text": [
      "val 9967\n"
     ]
    },
    {
     "data": {
      "text/plain": [
       "(False, False)"
      ]
     },
     "execution_count": 13,
     "metadata": {},
     "output_type": "execute_result"
    }
   ],
   "source": [
    "sequence_len = 48\n",
    "target_len = 48\n",
    "dim = 32\n",
    "args.seq_len = sequence_len\n",
    "args.pred_len = target_len\n",
    "args.root_path = './dataset/USC/'\n",
    "args.data = 'USC'\n",
    "args.input_features = 'V'\n",
    "args.use_action_progress = True\n",
    "args.use_offense = True\n",
    "args.enc_in, args.dec_in, args.c_out = dim, dim , dim\n",
    "\n",
    "uscds, uscdl = data_provider(args= args, flag = 'val')\n",
    "np.isnan(uscds.data_x).any(), np.isnan(uscds.data_y).any()"
   ]
  },
  {
   "cell_type": "code",
   "execution_count": 14,
   "metadata": {},
   "outputs": [
    {
     "data": {
      "text/plain": [
       "((9967, 48, 32), 9967, 156, 64)"
      ]
     },
     "execution_count": 14,
     "metadata": {},
     "output_type": "execute_result"
    }
   ],
   "source": [
    "uscds.data_x.shape, len(uscds.data_x),  uscdl.__len__(), uscdl.batch_size"
   ]
  },
  {
   "cell_type": "code",
   "execution_count": 15,
   "metadata": {},
   "outputs": [
    {
     "data": {
      "text/plain": [
       "-21279544.0"
      ]
     },
     "execution_count": 15,
     "metadata": {},
     "output_type": "execute_result"
    }
   ],
   "source": [
    "uscds.data_x.min()"
   ]
  },
  {
   "cell_type": "code",
   "execution_count": 12,
   "metadata": {},
   "outputs": [
    {
     "name": "stdout",
     "output_type": "stream",
     "text": [
      "Model quick summary\n",
      "=======================================================================================\n",
      "Layer name                    |          Nb units|      Nb tr params|  Nb non tr params\n",
      "LSTM_0                        |               256|           296 960|                 0\n",
      "Linear_0                      |               256|             8 448|                 0\n",
      "LayerNorm_0                   |                 -|               512|                 0\n",
      "Linear_1                      |               512|           131 584|                 0\n",
      "TransformerEncoderLayer_0     |               512|         3 152 384|                 0\n",
      "TransformerEncoderLayer_1     |               512|         3 152 384|                 0\n",
      "Linear_2                      |               256|           131 328|                 0\n",
      "LayerNorm_1                   |                 -|               512|                 0\n",
      "Linear_3                      |               256|            65 792|                 0\n",
      "LayerNorm_2                   |                 -|               512|                 0\n",
      "Linear_4                      |                48|            12 336|                 0\n",
      "=======================================================================================\n",
      "Skip_connections : True\n",
      "Transformer_nb_heads : 8\n",
      "Transformer_FF_units : 2048\n",
      "Dropout_rate : p = 0.25\n",
      "\n",
      "Nb trainable parameters : 6 952 752\n",
      "Nb non-trainable parameters : 0\n",
      "Total nb parameters : 6 952 752\n",
      "\n",
      "Dummy input shape : torch.Size([1, 48, 32]) | dummy output shape : torch.Size([1, 48, 32])\n"
     ]
    }
   ],
   "source": [
    "from models.LSTransformer import Model\n",
    "from utils.model_wrapper import ModelWrapper\n",
    "model = ModelWrapper(Model(configs=args), args)\n",
    "model.summary()"
   ]
  }
 ],
 "metadata": {
  "kernelspec": {
   "display_name": "tsl_env",
   "language": "python",
   "name": "python3"
  },
  "language_info": {
   "codemirror_mode": {
    "name": "ipython",
    "version": 3
   },
   "file_extension": ".py",
   "mimetype": "text/x-python",
   "name": "python",
   "nbconvert_exporter": "python",
   "pygments_lexer": "ipython3",
   "version": "3.10.6"
  }
 },
 "nbformat": 4,
 "nbformat_minor": 2
}
