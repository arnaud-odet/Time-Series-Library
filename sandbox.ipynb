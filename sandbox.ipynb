{
 "cells": [
  {
   "cell_type": "code",
   "execution_count": 2,
   "metadata": {},
   "outputs": [],
   "source": [
    "import os \n",
    "import numpy as np\n",
    "import pandas as pd"
   ]
  },
  {
   "cell_type": "code",
   "execution_count": 4,
   "metadata": {},
   "outputs": [],
   "source": [
    "lt_logs_df = pd.read_csv('./logs/long_term_forecast.csv', index_col = 0)\n",
    "from types import SimpleNamespace\n",
    "args = SimpleNamespace(**lt_logs_df.loc[21].to_dict())"
   ]
  },
  {
   "cell_type": "code",
   "execution_count": null,
   "metadata": {},
   "outputs": [],
   "source": [
    "sequence_len = 20\n",
    "target_len = 20 \n",
    "\n",
    "args.seq_len = sequence_len\n",
    "args.pred_len = target_len\n",
    "root_path = './dataset/USC/'\n"
   ]
  }
 ],
 "metadata": {
  "kernelspec": {
   "display_name": "tsl_env",
   "language": "python",
   "name": "python3"
  },
  "language_info": {
   "codemirror_mode": {
    "name": "ipython",
    "version": 3
   },
   "file_extension": ".py",
   "mimetype": "text/x-python",
   "name": "python",
   "nbconvert_exporter": "python",
   "pygments_lexer": "ipython3",
   "version": "3.10.6"
  }
 },
 "nbformat": 4,
 "nbformat_minor": 2
}
