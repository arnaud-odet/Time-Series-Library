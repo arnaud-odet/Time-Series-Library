{
 "cells": [
  {
   "cell_type": "code",
   "execution_count": 102,
   "metadata": {},
   "outputs": [],
   "source": [
    "import numpy as np\n",
    "import pandas as pd\n",
    "import os\n",
    "import matplotlib.pyplot as plt\n",
    "import seaborn as sns\n",
    "%reload_ext autoreload\n",
    "%autoreload 2"
   ]
  },
  {
   "cell_type": "markdown",
   "metadata": {},
   "source": [
    "# <span style='color:lightgreen'>Logs"
   ]
  },
  {
   "cell_type": "code",
   "execution_count": 118,
   "metadata": {},
   "outputs": [
    {
     "data": {
      "text/html": [
       "<div>\n",
       "<style scoped>\n",
       "    .dataframe tbody tr th:only-of-type {\n",
       "        vertical-align: middle;\n",
       "    }\n",
       "\n",
       "    .dataframe tbody tr th {\n",
       "        vertical-align: top;\n",
       "    }\n",
       "\n",
       "    .dataframe thead th {\n",
       "        text-align: right;\n",
       "    }\n",
       "</style>\n",
       "<table border=\"1\" class=\"dataframe\">\n",
       "  <thead>\n",
       "    <tr style=\"text-align: right;\">\n",
       "      <th></th>\n",
       "      <th>model</th>\n",
       "      <th>consider_only_offense</th>\n",
       "      <th>features</th>\n",
       "      <th>input_features</th>\n",
       "      <th>seq_len</th>\n",
       "      <th>pred_len</th>\n",
       "      <th>e_layers</th>\n",
       "      <th>d_model</th>\n",
       "      <th>d_layers</th>\n",
       "      <th>d_ff</th>\n",
       "      <th>dropout</th>\n",
       "      <th>learning_rate</th>\n",
       "      <th>train_epochs</th>\n",
       "      <th>nb_params</th>\n",
       "      <th>fde</th>\n",
       "      <th>rmse</th>\n",
       "      <th>mae</th>\n",
       "    </tr>\n",
       "  </thead>\n",
       "  <tbody>\n",
       "    <tr>\n",
       "      <th>223</th>\n",
       "      <td>Transformer</td>\n",
       "      <td>True</td>\n",
       "      <td>MS</td>\n",
       "      <td>A</td>\n",
       "      <td>32</td>\n",
       "      <td>32</td>\n",
       "      <td>2</td>\n",
       "      <td>256</td>\n",
       "      <td>1</td>\n",
       "      <td>1024</td>\n",
       "      <td>0.1</td>\n",
       "      <td>0.001</td>\n",
       "      <td>36</td>\n",
       "      <td>5280769</td>\n",
       "      <td>2.926098</td>\n",
       "      <td>1.706686</td>\n",
       "      <td>1.093945</td>\n",
       "    </tr>\n",
       "    <tr>\n",
       "      <th>221</th>\n",
       "      <td>LSTM</td>\n",
       "      <td>True</td>\n",
       "      <td>MS</td>\n",
       "      <td>A</td>\n",
       "      <td>32</td>\n",
       "      <td>32</td>\n",
       "      <td>2</td>\n",
       "      <td>256</td>\n",
       "      <td>1</td>\n",
       "      <td>1024</td>\n",
       "      <td>0.1</td>\n",
       "      <td>0.001</td>\n",
       "      <td>36</td>\n",
       "      <td>853249</td>\n",
       "      <td>3.033806</td>\n",
       "      <td>1.806024</td>\n",
       "      <td>1.166339</td>\n",
       "    </tr>\n",
       "    <tr>\n",
       "      <th>224</th>\n",
       "      <td>DLinear</td>\n",
       "      <td>True</td>\n",
       "      <td>S</td>\n",
       "      <td>A</td>\n",
       "      <td>32</td>\n",
       "      <td>32</td>\n",
       "      <td>2</td>\n",
       "      <td>256</td>\n",
       "      <td>1</td>\n",
       "      <td>1024</td>\n",
       "      <td>0.1</td>\n",
       "      <td>0.001</td>\n",
       "      <td>36</td>\n",
       "      <td>2112</td>\n",
       "      <td>3.036681</td>\n",
       "      <td>1.708961</td>\n",
       "      <td>1.034564</td>\n",
       "    </tr>\n",
       "    <tr>\n",
       "      <th>222</th>\n",
       "      <td>Transformer</td>\n",
       "      <td>True</td>\n",
       "      <td>S</td>\n",
       "      <td>A</td>\n",
       "      <td>32</td>\n",
       "      <td>32</td>\n",
       "      <td>2</td>\n",
       "      <td>256</td>\n",
       "      <td>1</td>\n",
       "      <td>1024</td>\n",
       "      <td>0.1</td>\n",
       "      <td>0.001</td>\n",
       "      <td>36</td>\n",
       "      <td>5234689</td>\n",
       "      <td>3.081521</td>\n",
       "      <td>1.769631</td>\n",
       "      <td>1.099922</td>\n",
       "    </tr>\n",
       "    <tr>\n",
       "      <th>228</th>\n",
       "      <td>PatchTST</td>\n",
       "      <td>True</td>\n",
       "      <td>S</td>\n",
       "      <td>A</td>\n",
       "      <td>32</td>\n",
       "      <td>32</td>\n",
       "      <td>2</td>\n",
       "      <td>256</td>\n",
       "      <td>1</td>\n",
       "      <td>1024</td>\n",
       "      <td>0.1</td>\n",
       "      <td>0.001</td>\n",
       "      <td>36</td>\n",
       "      <td>2897441</td>\n",
       "      <td>3.094815</td>\n",
       "      <td>1.791954</td>\n",
       "      <td>1.099074</td>\n",
       "    </tr>\n",
       "    <tr>\n",
       "      <th>220</th>\n",
       "      <td>LSTM</td>\n",
       "      <td>True</td>\n",
       "      <td>S</td>\n",
       "      <td>A</td>\n",
       "      <td>32</td>\n",
       "      <td>32</td>\n",
       "      <td>2</td>\n",
       "      <td>256</td>\n",
       "      <td>1</td>\n",
       "      <td>1024</td>\n",
       "      <td>0.1</td>\n",
       "      <td>0.001</td>\n",
       "      <td>36</td>\n",
       "      <td>791809</td>\n",
       "      <td>3.168699</td>\n",
       "      <td>1.853354</td>\n",
       "      <td>1.165634</td>\n",
       "    </tr>\n",
       "    <tr>\n",
       "      <th>226</th>\n",
       "      <td>iTransformer</td>\n",
       "      <td>True</td>\n",
       "      <td>S</td>\n",
       "      <td>A</td>\n",
       "      <td>32</td>\n",
       "      <td>32</td>\n",
       "      <td>2</td>\n",
       "      <td>256</td>\n",
       "      <td>1</td>\n",
       "      <td>1024</td>\n",
       "      <td>0.1</td>\n",
       "      <td>0.001</td>\n",
       "      <td>36</td>\n",
       "      <td>1596704</td>\n",
       "      <td>3.194651</td>\n",
       "      <td>1.853162</td>\n",
       "      <td>1.119300</td>\n",
       "    </tr>\n",
       "    <tr>\n",
       "      <th>227</th>\n",
       "      <td>iTransformer</td>\n",
       "      <td>True</td>\n",
       "      <td>MS</td>\n",
       "      <td>A</td>\n",
       "      <td>32</td>\n",
       "      <td>32</td>\n",
       "      <td>2</td>\n",
       "      <td>256</td>\n",
       "      <td>1</td>\n",
       "      <td>1024</td>\n",
       "      <td>0.1</td>\n",
       "      <td>0.001</td>\n",
       "      <td>36</td>\n",
       "      <td>1596704</td>\n",
       "      <td>3.866801</td>\n",
       "      <td>2.436459</td>\n",
       "      <td>1.466493</td>\n",
       "    </tr>\n",
       "    <tr>\n",
       "      <th>225</th>\n",
       "      <td>DLinear</td>\n",
       "      <td>True</td>\n",
       "      <td>MS</td>\n",
       "      <td>A</td>\n",
       "      <td>32</td>\n",
       "      <td>32</td>\n",
       "      <td>2</td>\n",
       "      <td>256</td>\n",
       "      <td>1</td>\n",
       "      <td>1024</td>\n",
       "      <td>0.1</td>\n",
       "      <td>0.001</td>\n",
       "      <td>36</td>\n",
       "      <td>2112</td>\n",
       "      <td>3.882972</td>\n",
       "      <td>2.442303</td>\n",
       "      <td>1.463488</td>\n",
       "    </tr>\n",
       "    <tr>\n",
       "      <th>229</th>\n",
       "      <td>PatchTST</td>\n",
       "      <td>True</td>\n",
       "      <td>MS</td>\n",
       "      <td>A</td>\n",
       "      <td>32</td>\n",
       "      <td>32</td>\n",
       "      <td>2</td>\n",
       "      <td>256</td>\n",
       "      <td>1</td>\n",
       "      <td>1024</td>\n",
       "      <td>0.1</td>\n",
       "      <td>0.001</td>\n",
       "      <td>36</td>\n",
       "      <td>2897441</td>\n",
       "      <td>3.885926</td>\n",
       "      <td>2.445549</td>\n",
       "      <td>1.470205</td>\n",
       "    </tr>\n",
       "  </tbody>\n",
       "</table>\n",
       "</div>"
      ],
      "text/plain": [
       "            model consider_only_offense features input_features  seq_len  \\\n",
       "223   Transformer                  True       MS              A       32   \n",
       "221          LSTM                  True       MS              A       32   \n",
       "224       DLinear                  True        S              A       32   \n",
       "222   Transformer                  True        S              A       32   \n",
       "228      PatchTST                  True        S              A       32   \n",
       "220          LSTM                  True        S              A       32   \n",
       "226  iTransformer                  True        S              A       32   \n",
       "227  iTransformer                  True       MS              A       32   \n",
       "225       DLinear                  True       MS              A       32   \n",
       "229      PatchTST                  True       MS              A       32   \n",
       "\n",
       "     pred_len  e_layers  d_model  d_layers  d_ff  dropout  learning_rate  \\\n",
       "223        32         2      256         1  1024      0.1          0.001   \n",
       "221        32         2      256         1  1024      0.1          0.001   \n",
       "224        32         2      256         1  1024      0.1          0.001   \n",
       "222        32         2      256         1  1024      0.1          0.001   \n",
       "228        32         2      256         1  1024      0.1          0.001   \n",
       "220        32         2      256         1  1024      0.1          0.001   \n",
       "226        32         2      256         1  1024      0.1          0.001   \n",
       "227        32         2      256         1  1024      0.1          0.001   \n",
       "225        32         2      256         1  1024      0.1          0.001   \n",
       "229        32         2      256         1  1024      0.1          0.001   \n",
       "\n",
       "     train_epochs  nb_params       fde      rmse       mae  \n",
       "223            36    5280769  2.926098  1.706686  1.093945  \n",
       "221            36     853249  3.033806  1.806024  1.166339  \n",
       "224            36       2112  3.036681  1.708961  1.034564  \n",
       "222            36    5234689  3.081521  1.769631  1.099922  \n",
       "228            36    2897441  3.094815  1.791954  1.099074  \n",
       "220            36     791809  3.168699  1.853354  1.165634  \n",
       "226            36    1596704  3.194651  1.853162  1.119300  \n",
       "227            36    1596704  3.866801  2.436459  1.466493  \n",
       "225            36       2112  3.882972  2.442303  1.463488  \n",
       "229            36    2897441  3.885926  2.445549  1.470205  "
      ]
     },
     "execution_count": 118,
     "metadata": {},
     "output_type": "execute_result"
    }
   ],
   "source": [
    "model_id = 'USC_32_32'\n",
    "lt_logs_df = pd.read_csv('./logs/long_term_forecast.csv', index_col = 0)\n",
    "start_index = 220\n",
    "query = (lt_logs_df['model_id'] == model_id)&(lt_logs_df['fde'].isna() == False)&(lt_logs_df.index >= start_index)\n",
    "lt_logs_df[query][['model','consider_only_offense','features','input_features','seq_len', 'pred_len','e_layers','d_model', 'd_layers', 'd_ff',\n",
    "       'dropout', 'learning_rate', 'train_epochs','nb_params', 'fde','rmse', 'mae']].sort_values('fde')#.head(20)"
   ]
  },
  {
   "cell_type": "code",
   "execution_count": 119,
   "metadata": {},
   "outputs": [
    {
     "data": {
      "image/png": "[encoded data removed]",
      "text/plain": [
       "<Figure size 640x480 with 1 Axes>"
      ]
     },
     "metadata": {},
     "output_type": "display_data"
    }
   ],
   "source": [
    "sns.scatterplot( data = lt_logs_df[query], \n",
    "                x = 'nb_params', y='fde', alpha = 0.5,\n",
    "                hue= 'features');"
   ]
  },
  {
   "cell_type": "markdown",
   "metadata": {},
   "source": [
    "### Scoring baselines"
   ]
  },
  {
   "cell_type": "code",
   "execution_count": 110,
   "metadata": {},
   "outputs": [
    {
     "name": "stdout",
     "output_type": "stream",
     "text": [
      "test 4233\n"
     ]
    },
    {
     "data": {
      "text/plain": [
       "((4233, 32, 1), (4233, 32, 1))"
      ]
     },
     "execution_count": 110,
     "metadata": {},
     "output_type": "execute_result"
    }
   ],
   "source": [
    "from types import SimpleNamespace\n",
    "from data_provider.data_factory import data_provider\n",
    "\n",
    "usc_args = SimpleNamespace(**lt_logs_df.loc[207].to_dict())\n",
    "usc_args.scale = False\n",
    "uscds, uscdl = data_provider(args= usc_args, flag = 'test', )\n",
    "uscds.data_x.shape, uscds.data_y.shape"
   ]
  },
  {
   "cell_type": "code",
   "execution_count": 111,
   "metadata": {},
   "outputs": [
    {
     "data": {
      "image/png": "[encoded data removed]",
      "text/plain": [
       "<Figure size 1200x500 with 2 Axes>"
      ]
     },
     "metadata": {},
     "output_type": "display_data"
    }
   ],
   "source": [
    "tmp = uscds.data_x[:,-1,0] -  uscds.data_y[:,0,0]\n",
    "fig, axs = plt.subplots(1,2,figsize = (12,5), sharey=True)\n",
    "sns.histplot(tmp, ax = axs[0]);\n",
    "sns.histplot(uscds.data_y[:,-1,0], ax = axs[1]);\n"
   ]
  },
  {
   "cell_type": "code",
   "execution_count": 112,
   "metadata": {},
   "outputs": [
    {
     "data": {
      "text/plain": [
       "(array([-0.5815458 , -0.4777832 , -0.3362279 , -0.13446379,  0.        ],\n",
       "       dtype=float32),\n",
       " array([0.17934847, 0.41184092, 0.6160221 , 0.8721256 , 1.0302544 ],\n",
       "       dtype=float32))"
      ]
     },
     "execution_count": 112,
     "metadata": {},
     "output_type": "execute_result"
    }
   ],
   "source": [
    "uscds.data_x[0,-5:,0] , uscds.data_y[0,:5,0]"
   ]
  },
  {
   "cell_type": "code",
   "execution_count": 114,
   "metadata": {},
   "outputs": [],
   "source": [
    "x,y = uscds.data_x, uscds.data_y"
   ]
  },
  {
   "cell_type": "code",
   "execution_count": 115,
   "metadata": {},
   "outputs": [
    {
     "data": {
      "text/plain": [
       "(array([-0.5815458 , -0.4777832 , -0.3362279 , -0.13446379,  0.        ],\n",
       "       dtype=float32),\n",
       " array([2.177392 , 2.1703014, 2.1655731, 2.1820927, 2.18682  ],\n",
       "       dtype=float32))"
      ]
     },
     "execution_count": 115,
     "metadata": {},
     "output_type": "execute_result"
    }
   ],
   "source": [
    "ind = 0\n",
    "x[ind,-5:,0], y[ind,usc_args.label_len:usc_args.label_len+5,0]"
   ]
  },
  {
   "cell_type": "code",
   "execution_count": 124,
   "metadata": {},
   "outputs": [
    {
     "data": {
      "text/plain": [
       "(3.8998787, 2.452531)"
      ]
     },
     "execution_count": 124,
     "metadata": {},
     "output_type": "execute_result"
    }
   ],
   "source": [
    "ss_fde = np.sqrt(np.mean(uscds.data_y[:,-1,0]**2))\n",
    "ss_rmse = np.sqrt(np.mean(uscds.data_y[:,:,0]**2))\n",
    "ss_fde, ss_rmse"
   ]
  },
  {
   "cell_type": "code",
   "execution_count": 141,
   "metadata": {},
   "outputs": [
    {
     "data": {
      "text/plain": [
       "(3.9323, 2.0943015)"
      ]
     },
     "execution_count": 141,
     "metadata": {},
     "output_type": "execute_result"
    }
   ],
   "source": [
    "bl_cv_delta = uscds.data_x[:,-1,0] - uscds.data_x[:,-2,0]\n",
    "bl_cv_pred = np.repeat(uscds.data_x[:,-1,0].reshape(-1,1,1), y.shape[1], axis=1)\n",
    "for i in range(y.shape[1]):\n",
    "    bl_cv_pred[:,i,0] = (i+1) * bl_cv_delta \n",
    "cv_fde = np.sqrt(np.mean( (uscds.data_y[:,-1,0] - bl_cv_pred[:,-1,0])**2 ))\n",
    "cv_rmse = np.sqrt(np.mean( (uscds.data_y[:,:,0] - bl_cv_pred[:,:,0])**2 ))\n",
    "cv_fde, cv_rmse"
   ]
  },
  {
   "cell_type": "code",
   "execution_count": 143,
   "metadata": {},
   "outputs": [],
   "source": [
    "bls = [{'model':'Baseline - StandStill', 'features':'S','fde':ss_fde, 'rmse':ss_rmse},\n",
    "       {'model':'Baseline - ConstantVelocity', 'features':'S','fde':cv_fde, 'rmse': cv_rmse}]"
   ]
  },
  {
   "cell_type": "markdown",
   "metadata": {},
   "source": [
    "### Comparison"
   ]
  },
  {
   "cell_type": "code",
   "execution_count": 145,
   "metadata": {},
   "outputs": [
    {
     "data": {
      "text/html": [
       "<div>\n",
       "<style scoped>\n",
       "    .dataframe tbody tr th:only-of-type {\n",
       "        vertical-align: middle;\n",
       "    }\n",
       "\n",
       "    .dataframe tbody tr th {\n",
       "        vertical-align: top;\n",
       "    }\n",
       "\n",
       "    .dataframe thead th {\n",
       "        text-align: right;\n",
       "    }\n",
       "</style>\n",
       "<table border=\"1\" class=\"dataframe\">\n",
       "  <thead>\n",
       "    <tr style=\"text-align: right;\">\n",
       "      <th></th>\n",
       "      <th>model</th>\n",
       "      <th>features</th>\n",
       "      <th>fde</th>\n",
       "      <th>rmse</th>\n",
       "    </tr>\n",
       "  </thead>\n",
       "  <tbody>\n",
       "    <tr>\n",
       "      <th>3</th>\n",
       "      <td>Transformer</td>\n",
       "      <td>MS</td>\n",
       "      <td>2.926</td>\n",
       "      <td>1.707</td>\n",
       "    </tr>\n",
       "    <tr>\n",
       "      <th>1</th>\n",
       "      <td>LSTM</td>\n",
       "      <td>MS</td>\n",
       "      <td>3.034</td>\n",
       "      <td>1.806</td>\n",
       "    </tr>\n",
       "    <tr>\n",
       "      <th>4</th>\n",
       "      <td>DLinear</td>\n",
       "      <td>S</td>\n",
       "      <td>3.037</td>\n",
       "      <td>1.709</td>\n",
       "    </tr>\n",
       "    <tr>\n",
       "      <th>2</th>\n",
       "      <td>Transformer</td>\n",
       "      <td>S</td>\n",
       "      <td>3.082</td>\n",
       "      <td>1.770</td>\n",
       "    </tr>\n",
       "    <tr>\n",
       "      <th>8</th>\n",
       "      <td>PatchTST</td>\n",
       "      <td>S</td>\n",
       "      <td>3.095</td>\n",
       "      <td>1.792</td>\n",
       "    </tr>\n",
       "    <tr>\n",
       "      <th>0</th>\n",
       "      <td>LSTM</td>\n",
       "      <td>S</td>\n",
       "      <td>3.169</td>\n",
       "      <td>1.853</td>\n",
       "    </tr>\n",
       "    <tr>\n",
       "      <th>6</th>\n",
       "      <td>iTransformer</td>\n",
       "      <td>S</td>\n",
       "      <td>3.195</td>\n",
       "      <td>1.853</td>\n",
       "    </tr>\n",
       "    <tr>\n",
       "      <th>7</th>\n",
       "      <td>iTransformer</td>\n",
       "      <td>MS</td>\n",
       "      <td>3.867</td>\n",
       "      <td>2.436</td>\n",
       "    </tr>\n",
       "    <tr>\n",
       "      <th>5</th>\n",
       "      <td>DLinear</td>\n",
       "      <td>MS</td>\n",
       "      <td>3.883</td>\n",
       "      <td>2.442</td>\n",
       "    </tr>\n",
       "    <tr>\n",
       "      <th>9</th>\n",
       "      <td>PatchTST</td>\n",
       "      <td>MS</td>\n",
       "      <td>3.886</td>\n",
       "      <td>2.446</td>\n",
       "    </tr>\n",
       "    <tr>\n",
       "      <th>10</th>\n",
       "      <td>Baseline - StandStill</td>\n",
       "      <td>S</td>\n",
       "      <td>3.900</td>\n",
       "      <td>2.453</td>\n",
       "    </tr>\n",
       "    <tr>\n",
       "      <th>11</th>\n",
       "      <td>Baseline - ConstantVelocity</td>\n",
       "      <td>S</td>\n",
       "      <td>3.932</td>\n",
       "      <td>2.094</td>\n",
       "    </tr>\n",
       "  </tbody>\n",
       "</table>\n",
       "</div>"
      ],
      "text/plain": [
       "                          model features    fde   rmse\n",
       "3                   Transformer       MS  2.926  1.707\n",
       "1                          LSTM       MS  3.034  1.806\n",
       "4                       DLinear        S  3.037  1.709\n",
       "2                   Transformer        S  3.082  1.770\n",
       "8                      PatchTST        S  3.095  1.792\n",
       "0                          LSTM        S  3.169  1.853\n",
       "6                  iTransformer        S  3.195  1.853\n",
       "7                  iTransformer       MS  3.867  2.436\n",
       "5                       DLinear       MS  3.883  2.442\n",
       "9                      PatchTST       MS  3.886  2.446\n",
       "10        Baseline - StandStill        S  3.900  2.453\n",
       "11  Baseline - ConstantVelocity        S  3.932  2.094"
      ]
     },
     "execution_count": 145,
     "metadata": {},
     "output_type": "execute_result"
    }
   ],
   "source": [
    "comp = pd.concat([lt_logs_df[query][['model','features','fde','rmse']], pd.DataFrame(bls)]).reset_index(drop=True)\n",
    "comp.sort_values(by = 'fde').round(3)"
   ]
  },
  {
   "cell_type": "code",
   "execution_count": 147,
   "metadata": {},
   "outputs": [
    {
     "data": {
      "image/png": "[encoded data removed]",
      "text/plain": [
       "<Figure size 640x480 with 1 Axes>"
      ]
     },
     "metadata": {},
     "output_type": "display_data"
    }
   ],
   "source": [
    "sns.scatterplot(data=comp, x = 'rmse', y = 'fde', hue = 'features', alpha = 0.6);"
   ]
  }
 ],
 "metadata": {
  "kernelspec": {
   "display_name": "tsl_env",
   "language": "python",
   "name": "python3"
  },
  "language_info": {
   "codemirror_mode": {
    "name": "ipython",
    "version": 3
   },
   "file_extension": ".py",
   "mimetype": "text/x-python",
   "name": "python",
   "nbconvert_exporter": "python",
   "pygments_lexer": "ipython3",
   "version": "3.10.6"
  }
 },
 "nbformat": 4,
 "nbformat_minor": 2
}
